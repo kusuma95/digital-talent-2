{
 "cells": [
  {
   "cell_type": "markdown",
   "metadata": {},
   "source": [
    "# Analisa Data Negara Tujuan Ekspor Indonesia Tahun 2005-2013"
   ]
  },
  {
   "cell_type": "markdown",
   "metadata": {},
   "source": [
    "### Deskripsi Data\n",
    "---\n",
    "\n",
    "Data yang digunakan adalah data yang disediakan oleh institusi Bank Indonesia melalui portal data.go.id yakni [Data Ekspor Indonesia berdasarkan Negara Tujuan](https://data.go.id/dataset/nilai-ekspor-indonesia-berdasarkan-negara-tujuan). Dataset ini menampilkan nilai ekspor yang dilakukan oleh Indonesia. Nilai ekspor pada datasheet ini dijabarkan per bulan untuk masing-masing Negara Tujuan Ekspor selama 8 (delapan) tahun mulai dari tahun 2005 - 2013. \n",
    "\n",
    "Berikut ini beberapa poin penting terkait data tersebut:\n",
    "- Terdiri dari 6 kolom yakni tahun, bulan, benua, region, nama_negara dan nilai_ekspor. \n",
    "- Terdiri dari rows sebanyak 4428\n",
    "- Format CSV, dengan delimiter menggunakan tanda koma (,)\n",
    "\n",
    "Penjelasan mengenai masing-masing kolom pada Dataset ini:\n",
    "\n",
    "- tahun: Tahun, dtype= Int64\n",
    "- bulan: Bulan, dtype= object\n",
    "- benua: Nama Benua, dtype= object\n",
    "- region: Nama Region, dtype= object\n",
    "- nama_negara: Nama Negara tujuan, dtype= object\n",
    "- nilai_ekspor: Nilai ekspor (dalam Ribu USD), dtype= Float64\n",
    "\n",
    "Beberapa jenis pengolahan data yang akan dilakukan disini antara lain:\n",
    "1. Statistik Nilai Ekspor secara umum dalam kurun waktu 2005-2013\n",
    "2. Statistik Total Nilai Ekspor Indonesia per tahun\n",
    "3. Statistik Nilai Ekspor Indonesia per benua dalam kurun waktu 2005-2013\n",
    "4. Statistik Nilai Ekspor Indonesia per benua dan per tahun\n",
    "5. Negara Tujuan Ekspor Utama Indonesia\n"
   ]
  },
  {
   "cell_type": "markdown",
   "metadata": {},
   "source": [
    "### Inisiasi Data\n",
    "---"
   ]
  },
  {
   "cell_type": "markdown",
   "metadata": {},
   "source": [
    "##### _Mengimpor pandas dan membaca dataset_"
   ]
  },
  {
   "cell_type": "code",
   "execution_count": 1,
   "metadata": {
    "scrolled": true
   },
   "outputs": [
    {
     "data": {
      "text/html": [
       "<style  type=\"text/css\" >\n",
       "</style>  \n",
       "<table id=\"T_3361f558_d6cd_11e8_b272_305a3a8b7161\" > \n",
       "<thead>    <tr> \n",
       "        <th class=\"blank level0\" ></th> \n",
       "        <th class=\"col_heading level0 col0\" >tahun</th> \n",
       "        <th class=\"col_heading level0 col1\" >bulan</th> \n",
       "        <th class=\"col_heading level0 col2\" >benua</th> \n",
       "        <th class=\"col_heading level0 col3\" >region</th> \n",
       "        <th class=\"col_heading level0 col4\" >nama_negara</th> \n",
       "        <th class=\"col_heading level0 col5\" >nilai_ekspor</th> \n",
       "    </tr></thead> \n",
       "<tbody>    <tr> \n",
       "        <th id=\"T_3361f558_d6cd_11e8_b272_305a3a8b7161level0_row0\" class=\"row_heading level0 row0\" >2144</th> \n",
       "        <td id=\"T_3361f558_d6cd_11e8_b272_305a3a8b7161row0_col0\" class=\"data row0 col0\" >2009</td> \n",
       "        <td id=\"T_3361f558_d6cd_11e8_b272_305a3a8b7161row0_col1\" class=\"data row0 col1\" >Mei</td> \n",
       "        <td id=\"T_3361f558_d6cd_11e8_b272_305a3a8b7161row0_col2\" class=\"data row0 col2\" >Eropa</td> \n",
       "        <td id=\"T_3361f558_d6cd_11e8_b272_305a3a8b7161row0_col3\" class=\"data row0 col3\" >Uni Eropa</td> \n",
       "        <td id=\"T_3361f558_d6cd_11e8_b272_305a3a8b7161row0_col4\" class=\"data row0 col4\" >Spanyol</td> \n",
       "        <td id=\"T_3361f558_d6cd_11e8_b272_305a3a8b7161row0_col5\" class=\"data row0 col5\" >          153,538.00 $</td> \n",
       "    </tr>    <tr> \n",
       "        <th id=\"T_3361f558_d6cd_11e8_b272_305a3a8b7161level0_row1\" class=\"row_heading level0 row1\" >110</th> \n",
       "        <td id=\"T_3361f558_d6cd_11e8_b272_305a3a8b7161row1_col0\" class=\"data row1 col0\" >2005</td> \n",
       "        <td id=\"T_3361f558_d6cd_11e8_b272_305a3a8b7161row1_col1\" class=\"data row1 col1\" >Maret</td> \n",
       "        <td id=\"T_3361f558_d6cd_11e8_b272_305a3a8b7161row1_col2\" class=\"data row1 col2\" >Asia dan Timur Tengah</td> \n",
       "        <td id=\"T_3361f558_d6cd_11e8_b272_305a3a8b7161row1_col3\" class=\"data row1 col3\" >Timur Tengah</td> \n",
       "        <td id=\"T_3361f558_d6cd_11e8_b272_305a3a8b7161row1_col4\" class=\"data row1 col4\" >Irak</td> \n",
       "        <td id=\"T_3361f558_d6cd_11e8_b272_305a3a8b7161row1_col5\" class=\"data row1 col5\" >           14,869.00 $</td> \n",
       "    </tr>    <tr> \n",
       "        <th id=\"T_3361f558_d6cd_11e8_b272_305a3a8b7161level0_row2\" class=\"row_heading level0 row2\" >389</th> \n",
       "        <td id=\"T_3361f558_d6cd_11e8_b272_305a3a8b7161row2_col0\" class=\"data row2 col0\" >2005</td> \n",
       "        <td id=\"T_3361f558_d6cd_11e8_b272_305a3a8b7161row2_col1\" class=\"data row2 col1\" >Oktober</td> \n",
       "        <td id=\"T_3361f558_d6cd_11e8_b272_305a3a8b7161row2_col2\" class=\"data row2 col2\" >Asia dan Timur Tengah</td> \n",
       "        <td id=\"T_3361f558_d6cd_11e8_b272_305a3a8b7161row2_col3\" class=\"data row2 col3\" >ASEAN</td> \n",
       "        <td id=\"T_3361f558_d6cd_11e8_b272_305a3a8b7161row2_col4\" class=\"data row2 col4\" >Laos</td> \n",
       "        <td id=\"T_3361f558_d6cd_11e8_b272_305a3a8b7161row2_col5\" class=\"data row2 col5\" >               17.00 $</td> \n",
       "    </tr>    <tr> \n",
       "        <th id=\"T_3361f558_d6cd_11e8_b272_305a3a8b7161level0_row3\" class=\"row_heading level0 row3\" >1767</th> \n",
       "        <td id=\"T_3361f558_d6cd_11e8_b272_305a3a8b7161row3_col0\" class=\"data row3 col0\" >2008</td> \n",
       "        <td id=\"T_3361f558_d6cd_11e8_b272_305a3a8b7161row3_col1\" class=\"data row3 col1\" >Agustus</td> \n",
       "        <td id=\"T_3361f558_d6cd_11e8_b272_305a3a8b7161row3_col2\" class=\"data row3 col2\" >Amerika</td> \n",
       "        <td id=\"T_3361f558_d6cd_11e8_b272_305a3a8b7161row3_col3\" class=\"data row3 col3\" >Amerika Tengah dan Selatan</td> \n",
       "        <td id=\"T_3361f558_d6cd_11e8_b272_305a3a8b7161row3_col4\" class=\"data row3 col4\" >Meksiko</td> \n",
       "        <td id=\"T_3361f558_d6cd_11e8_b272_305a3a8b7161row3_col5\" class=\"data row3 col5\" >           49,907.00 $</td> \n",
       "    </tr>    <tr> \n",
       "        <th id=\"T_3361f558_d6cd_11e8_b272_305a3a8b7161level0_row4\" class=\"row_heading level0 row4\" >4181</th> \n",
       "        <td id=\"T_3361f558_d6cd_11e8_b272_305a3a8b7161row4_col0\" class=\"data row4 col0\" >2013</td> \n",
       "        <td id=\"T_3361f558_d6cd_11e8_b272_305a3a8b7161row4_col1\" class=\"data row4 col1\" >Juni</td> \n",
       "        <td id=\"T_3361f558_d6cd_11e8_b272_305a3a8b7161row4_col2\" class=\"data row4 col2\" >Ekspor yang tidak dapat diklasifikasikan </td> \n",
       "        <td id=\"T_3361f558_d6cd_11e8_b272_305a3a8b7161row4_col3\" class=\"data row4 col3\" >Ekspor yang tidak dapat diklasifikasikan</td> \n",
       "        <td id=\"T_3361f558_d6cd_11e8_b272_305a3a8b7161row4_col4\" class=\"data row4 col4\" >Ekspor yang tidak dapat diklasifikasikan</td> \n",
       "        <td id=\"T_3361f558_d6cd_11e8_b272_305a3a8b7161row4_col5\" class=\"data row4 col5\" >          214,030.00 $</td> \n",
       "    </tr></tbody> \n",
       "</table> "
      ],
      "text/plain": [
       "<pandas.io.formats.style.Styler at 0x1fe1793ca58>"
      ]
     },
     "execution_count": 1,
     "metadata": {},
     "output_type": "execute_result"
    }
   ],
   "source": [
    "import pandas as pd\n",
    "\n",
    "data_ekspor = pd.read_csv('processed-nilai-ekspor-negara-tujuan-2005-2013.csv', delimiter = ',', encoding = \"ISO-8859-1\")\n",
    "data_ekspor.sample(5).style.format({'nilai_ekspor': \"{:20,.2f} $\"})\n"
   ]
  },
  {
   "cell_type": "markdown",
   "metadata": {},
   "source": [
    "##### _Membaca info datasheet_"
   ]
  },
  {
   "cell_type": "code",
   "execution_count": 2,
   "metadata": {},
   "outputs": [
    {
     "name": "stdout",
     "output_type": "stream",
     "text": [
      "<class 'pandas.core.frame.DataFrame'>\n",
      "RangeIndex: 4428 entries, 0 to 4427\n",
      "Data columns (total 6 columns):\n",
      "tahun           4428 non-null int64\n",
      "bulan           4428 non-null object\n",
      "benua           4428 non-null object\n",
      "region          4428 non-null object\n",
      "nama_negara     4428 non-null object\n",
      "nilai_ekspor    4428 non-null float64\n",
      "dtypes: float64(1), int64(1), object(4)\n",
      "memory usage: 207.6+ KB\n"
     ]
    }
   ],
   "source": [
    "data_ekspor.info(5)"
   ]
  },
  {
   "cell_type": "markdown",
   "metadata": {},
   "source": [
    "### Olah Data\n",
    "---\n",
    "\n",
    "Pengolahan statistik sederhana untuk numerical data (dalam hal ini adalah nilai ekspor) melalui ***eksplorasi data, visualisasi dan narasi***"
   ]
  },
  {
   "cell_type": "markdown",
   "metadata": {},
   "source": [
    "#### 2.1 Statistik Nilai Ekspor secara umum dalam kurun waktu 2005-2013"
   ]
  },
  {
   "cell_type": "code",
   "execution_count": 3,
   "metadata": {
    "scrolled": false
   },
   "outputs": [
    {
     "name": "stdout",
     "output_type": "stream",
     "text": [
      "\n",
      "=======================\n",
      "Tujuan Ekspor Indonesia\n",
      "=======================\n",
      "Jumlah Negara Tujuan Ekspor Indonesia :  41 Negara\n",
      "Jumlah Region Tujuan Ekspor Indonesia :  16 Wilayah\n",
      "\n",
      "=============================================================\n",
      "Nilai Ekspor bulanan Indonesia ke masing-masing Negara Tujuan\n",
      "=============================================================\n",
      "Rata-Rata                   :            292,896.03\n",
      "Minimum                     :                  0.00\n",
      "Maksimum                    :          3,068,508.00\n",
      "\n",
      "====================================\n",
      "Total Nilai Ekspor tahunan Indonesia\n",
      "====================================\n",
      "Rata-Rata                   :        144,104,845.15\n",
      "Minimum                     :         86,828,234.11\n",
      "Maksimum                    :        200,479,499.00\n"
     ]
    }
   ],
   "source": [
    "count_negara = data_ekspor['nama_negara'].value_counts().count()\n",
    "count_region = data_ekspor['region'].value_counts().count()\n",
    "\n",
    "avg_ekspor = data_ekspor['nilai_ekspor'].mean()\n",
    "max_ekspor = data_ekspor['nilai_ekspor'].max()\n",
    "min_ekspor = data_ekspor['nilai_ekspor'].min()\n",
    "\n",
    "avg_ekspor_tahunan = data_ekspor[['tahun','nilai_ekspor']].groupby('tahun').sum().mean()[0]\n",
    "max_ekspor_tahunan = data_ekspor[['tahun','nilai_ekspor']].groupby('tahun').sum().max()[0]\n",
    "min_ekspor_tahunan = data_ekspor[['tahun','nilai_ekspor']].groupby('tahun').sum().min()[0]\n",
    "\n",
    "tujuan_ekspor_utama = data_ekspor[['nama_negara', 'nilai_ekspor']].groupby('nama_negara').sum()\n",
    "\n",
    "print('\\n=======================')\n",
    "print('Tujuan Ekspor Indonesia')\n",
    "print('=======================')\n",
    "print('Jumlah Negara Tujuan Ekspor Indonesia : ', count_negara, 'Negara')\n",
    "print('Jumlah Region Tujuan Ekspor Indonesia : ', count_region, 'Wilayah')\n",
    "\n",
    "print('\\n=============================================================')\n",
    "print('Nilai Ekspor bulanan Indonesia ke masing-masing Negara Tujuan')\n",
    "print('=============================================================')\n",
    "print('Rata-Rata                   : ', '{:20,.2f}'.format(avg_ekspor))\n",
    "print('Minimum                     : ', '{:20,.2f}'.format(min_ekspor))\n",
    "print('Maksimum                    : ', '{:20,.2f}'.format(max_ekspor))\n",
    "\n",
    "print('\\n====================================')\n",
    "print('Total Nilai Ekspor tahunan Indonesia')\n",
    "print('====================================')\n",
    "print('Rata-Rata                   : ', '{:20,.2f}'.format(avg_ekspor_tahunan))\n",
    "print('Minimum                     : ', '{:20,.2f}'.format(min_ekspor_tahunan))\n",
    "print('Maksimum                    : ', '{:20,.2f}'.format(max_ekspor_tahunan))\n",
    "\n"
   ]
  },
  {
   "cell_type": "markdown",
   "metadata": {},
   "source": [
    "##### Analisis :\n",
    "***\n",
    "Berdasarkan data tersebut, dalam kurun waktu 2005-2013, terdapat 41 Negara yang menjadi tujuan Ekspor Indonesia yang terbadi dalam 16 regional. Untuk setiap negara tujuan tersebut, Indonesia rata-rata melakukan kegiatan ekspor sebesar 292.896.000 USD (292.8 Juta USD) setiap bulannya. Secara total dalam setahun rata-rata Indonesia melakukan ekspor sebesar 144,104,845,150 USD (144.1 Milyar USD).\n"
   ]
  },
  {
   "cell_type": "markdown",
   "metadata": {},
   "source": [
    "#### 2.2 Statistik Nilai Ekspor Indonesia per tahun"
   ]
  },
  {
   "cell_type": "code",
   "execution_count": 4,
   "metadata": {
    "scrolled": true
   },
   "outputs": [
    {
     "data": {
      "text/html": [
       "<style  type=\"text/css\" >\n",
       "</style>  \n",
       "<table id=\"T_3396c93a_d6cd_11e8_aab1_305a3a8b7161\" > \n",
       "<thead>    <tr> \n",
       "        <th class=\"blank level0\" ></th> \n",
       "        <th class=\"col_heading level0 col0\" colspan=4>nilai_ekspor</th> \n",
       "    </tr>    <tr> \n",
       "        <th class=\"blank level1\" ></th> \n",
       "        <th class=\"col_heading level1 col0\" >sum</th> \n",
       "        <th class=\"col_heading level1 col1\" >mean</th> \n",
       "        <th class=\"col_heading level1 col2\" >min</th> \n",
       "        <th class=\"col_heading level1 col3\" >max</th> \n",
       "    </tr>    <tr> \n",
       "        <th class=\"index_name level0\" >tahun</th> \n",
       "        <th class=\"blank\" ></th> \n",
       "        <th class=\"blank\" ></th> \n",
       "        <th class=\"blank\" ></th> \n",
       "        <th class=\"blank\" ></th> \n",
       "    </tr></thead> \n",
       "<tbody>    <tr> \n",
       "        <th id=\"T_3396c93a_d6cd_11e8_aab1_305a3a8b7161level0_row0\" class=\"row_heading level0 row0\" >2005</th> \n",
       "        <td id=\"T_3396c93a_d6cd_11e8_aab1_305a3a8b7161row0_col0\" class=\"data row0 col0\" >       86,828,234.11 $</td> \n",
       "        <td id=\"T_3396c93a_d6cd_11e8_aab1_305a3a8b7161row0_col1\" class=\"data row0 col1\" >          176,480.15 $</td> \n",
       "        <td id=\"T_3396c93a_d6cd_11e8_aab1_305a3a8b7161row0_col2\" class=\"data row0 col2\" >                0.00 $</td> \n",
       "        <td id=\"T_3396c93a_d6cd_11e8_aab1_305a3a8b7161row0_col3\" class=\"data row0 col3\" >        1,694,625.00 $</td> \n",
       "    </tr>    <tr> \n",
       "        <th id=\"T_3396c93a_d6cd_11e8_aab1_305a3a8b7161level0_row1\" class=\"row_heading level0 row1\" >2006</th> \n",
       "        <td id=\"T_3396c93a_d6cd_11e8_aab1_305a3a8b7161row1_col0\" class=\"data row1 col0\" >      103,355,309.28 $</td> \n",
       "        <td id=\"T_3396c93a_d6cd_11e8_aab1_305a3a8b7161row1_col1\" class=\"data row1 col1\" >          210,071.77 $</td> \n",
       "        <td id=\"T_3396c93a_d6cd_11e8_aab1_305a3a8b7161row1_col2\" class=\"data row1 col2\" >               33.18 $</td> \n",
       "        <td id=\"T_3396c93a_d6cd_11e8_aab1_305a3a8b7161row1_col3\" class=\"data row1 col3\" >        2,221,691.00 $</td> \n",
       "    </tr>    <tr> \n",
       "        <th id=\"T_3396c93a_d6cd_11e8_aab1_305a3a8b7161level0_row2\" class=\"row_heading level0 row2\" >2007</th> \n",
       "        <td id=\"T_3396c93a_d6cd_11e8_aab1_305a3a8b7161row2_col0\" class=\"data row2 col0\" >      117,795,498.00 $</td> \n",
       "        <td id=\"T_3396c93a_d6cd_11e8_aab1_305a3a8b7161row2_col1\" class=\"data row2 col1\" >          239,421.74 $</td> \n",
       "        <td id=\"T_3396c93a_d6cd_11e8_aab1_305a3a8b7161row2_col2\" class=\"data row2 col2\" >               22.00 $</td> \n",
       "        <td id=\"T_3396c93a_d6cd_11e8_aab1_305a3a8b7161row2_col3\" class=\"data row2 col3\" >        2,407,026.00 $</td> \n",
       "    </tr>    <tr> \n",
       "        <th id=\"T_3396c93a_d6cd_11e8_aab1_305a3a8b7161level0_row3\" class=\"row_heading level0 row3\" >2008</th> \n",
       "        <td id=\"T_3396c93a_d6cd_11e8_aab1_305a3a8b7161row3_col0\" class=\"data row3 col0\" >      139,357,658.00 $</td> \n",
       "        <td id=\"T_3396c93a_d6cd_11e8_aab1_305a3a8b7161row3_col1\" class=\"data row3 col1\" >          283,247.27 $</td> \n",
       "        <td id=\"T_3396c93a_d6cd_11e8_aab1_305a3a8b7161row3_col2\" class=\"data row3 col2\" >              121.00 $</td> \n",
       "        <td id=\"T_3396c93a_d6cd_11e8_aab1_305a3a8b7161row3_col3\" class=\"data row3 col3\" >        2,830,650.00 $</td> \n",
       "    </tr>    <tr> \n",
       "        <th id=\"T_3396c93a_d6cd_11e8_aab1_305a3a8b7161level0_row4\" class=\"row_heading level0 row4\" >2009</th> \n",
       "        <td id=\"T_3396c93a_d6cd_11e8_aab1_305a3a8b7161row4_col0\" class=\"data row4 col0\" >      119,350,064.00 $</td> \n",
       "        <td id=\"T_3396c93a_d6cd_11e8_aab1_305a3a8b7161row4_col1\" class=\"data row4 col1\" >          242,581.43 $</td> \n",
       "        <td id=\"T_3396c93a_d6cd_11e8_aab1_305a3a8b7161row4_col2\" class=\"data row4 col2\" >               64.00 $</td> \n",
       "        <td id=\"T_3396c93a_d6cd_11e8_aab1_305a3a8b7161row4_col3\" class=\"data row4 col3\" >        2,113,298.00 $</td> \n",
       "    </tr>    <tr> \n",
       "        <th id=\"T_3396c93a_d6cd_11e8_aab1_305a3a8b7161level0_row5\" class=\"row_heading level0 row5\" >2010</th> \n",
       "        <td id=\"T_3396c93a_d6cd_11e8_aab1_305a3a8b7161row5_col0\" class=\"data row5 col0\" >      157,732,559.00 $</td> \n",
       "        <td id=\"T_3396c93a_d6cd_11e8_aab1_305a3a8b7161row5_col1\" class=\"data row5 col1\" >          320,594.63 $</td> \n",
       "        <td id=\"T_3396c93a_d6cd_11e8_aab1_305a3a8b7161row5_col2\" class=\"data row5 col2\" >              105.00 $</td> \n",
       "        <td id=\"T_3396c93a_d6cd_11e8_aab1_305a3a8b7161row5_col3\" class=\"data row5 col3\" >        2,559,509.00 $</td> \n",
       "    </tr>    <tr> \n",
       "        <th id=\"T_3396c93a_d6cd_11e8_aab1_305a3a8b7161level0_row6\" class=\"row_heading level0 row6\" >2011</th> \n",
       "        <td id=\"T_3396c93a_d6cd_11e8_aab1_305a3a8b7161row6_col0\" class=\"data row6 col0\" >      200,479,499.00 $</td> \n",
       "        <td id=\"T_3396c93a_d6cd_11e8_aab1_305a3a8b7161row6_col1\" class=\"data row6 col1\" >          407,478.66 $</td> \n",
       "        <td id=\"T_3396c93a_d6cd_11e8_aab1_305a3a8b7161row6_col2\" class=\"data row6 col2\" >              281.00 $</td> \n",
       "        <td id=\"T_3396c93a_d6cd_11e8_aab1_305a3a8b7161row6_col3\" class=\"data row6 col3\" >        3,068,508.00 $</td> \n",
       "    </tr>    <tr> \n",
       "        <th id=\"T_3396c93a_d6cd_11e8_aab1_305a3a8b7161level0_row7\" class=\"row_heading level0 row7\" >2012</th> \n",
       "        <td id=\"T_3396c93a_d6cd_11e8_aab1_305a3a8b7161row7_col0\" class=\"data row7 col0\" >      188,496,353.00 $</td> \n",
       "        <td id=\"T_3396c93a_d6cd_11e8_aab1_305a3a8b7161row7_col1\" class=\"data row7 col1\" >          383,122.67 $</td> \n",
       "        <td id=\"T_3396c93a_d6cd_11e8_aab1_305a3a8b7161row7_col2\" class=\"data row7 col2\" >              292.00 $</td> \n",
       "        <td id=\"T_3396c93a_d6cd_11e8_aab1_305a3a8b7161row7_col3\" class=\"data row7 col3\" >        2,879,350.00 $</td> \n",
       "    </tr>    <tr> \n",
       "        <th id=\"T_3396c93a_d6cd_11e8_aab1_305a3a8b7161level0_row8\" class=\"row_heading level0 row8\" >2013</th> \n",
       "        <td id=\"T_3396c93a_d6cd_11e8_aab1_305a3a8b7161row8_col0\" class=\"data row8 col0\" >      183,548,432.00 $</td> \n",
       "        <td id=\"T_3396c93a_d6cd_11e8_aab1_305a3a8b7161row8_col1\" class=\"data row8 col1\" >          373,065.92 $</td> \n",
       "        <td id=\"T_3396c93a_d6cd_11e8_aab1_305a3a8b7161row8_col2\" class=\"data row8 col2\" >              169.00 $</td> \n",
       "        <td id=\"T_3396c93a_d6cd_11e8_aab1_305a3a8b7161row8_col3\" class=\"data row8 col3\" >        2,489,607.00 $</td> \n",
       "    </tr></tbody> \n",
       "</table> "
      ],
      "text/plain": [
       "<pandas.io.formats.style.Styler at 0x1fe188cc160>"
      ]
     },
     "execution_count": 4,
     "metadata": {},
     "output_type": "execute_result"
    }
   ],
   "source": [
    "data_ekspor[['tahun','nilai_ekspor']].groupby('tahun').agg(['sum','mean','min','max']).style.format(\"{:20,.2f} $\")"
   ]
  },
  {
   "cell_type": "markdown",
   "metadata": {},
   "source": [
    "##### Visualisasi"
   ]
  },
  {
   "cell_type": "code",
   "execution_count": 5,
   "metadata": {},
   "outputs": [
    {
     "data": {
      "text/plain": [
       "Text(0,0.5,'Nilai Ekspor (1K USD)')"
      ]
     },
     "execution_count": 5,
     "metadata": {},
     "output_type": "execute_result"
    },
    {
     "data": {
      "image/png": "[encoded data removed]",
      "text/plain": [
       "<Figure size 1080x432 with 1 Axes>"
      ]
     },
     "metadata": {
      "needs_background": "light"
     },
     "output_type": "display_data"
    }
   ],
   "source": [
    "ax = data_ekspor[['tahun','nilai_ekspor']].groupby(['tahun']).sum()\n",
    "ax = ax.plot(kind='bar', title =\"Total Nilai Ekspor per Tahun\", legend=True, fontsize=12, figsize=(15, 6))\n",
    "ax.set_xlabel(\"Tahun\", fontsize=12)\n",
    "ax.set_ylabel(\"Nilai Ekspor (1K USD)\", fontsize=6)"
   ]
  },
  {
   "cell_type": "markdown",
   "metadata": {},
   "source": [
    "##### Analisis :\n",
    "***\n",
    "Berdasarkan data dan grafik di atas, dapat dilihat bahwa total nilai ekspor Indonesia per tahun dari tahun 2005 terus mengalami kenaikan hingga tahun 2011, meskipun sempat turun di tahun 2009. Kenaikan nilai ekspor yang ditunjukan juga cukup signifikan yakni 86,8 Juta USD (tahun 2005) menjadi 200,4 Juta USD (tahun 2011) atau naik lebih dari 100% dalam kurun waktu tersebut. Namun demikian, kenaikan nilai ekspor tersebut tidak dapat dipertahankan selepas tahun 2011, karena pada tahun 2012 dan 2013 nilai ekspor tahunan Indonesia mengalami penurunan menjadi 188,4 Juta USD dan 183,5 Juta USD.\n"
   ]
  },
  {
   "cell_type": "markdown",
   "metadata": {},
   "source": [
    "#### 2.3 Statistik Nilai Ekspor Indonesia per benua selama kurun waktu 2005-2013"
   ]
  },
  {
   "cell_type": "code",
   "execution_count": 6,
   "metadata": {},
   "outputs": [
    {
     "data": {
      "text/html": [
       "<style  type=\"text/css\" >\n",
       "</style>  \n",
       "<table id=\"T_33d3a45c_d6cd_11e8_be53_305a3a8b7161\" > \n",
       "<thead>    <tr> \n",
       "        <th class=\"blank level0\" ></th> \n",
       "        <th class=\"col_heading level0 col0\" colspan=4>nilai_ekspor</th> \n",
       "    </tr>    <tr> \n",
       "        <th class=\"blank level1\" ></th> \n",
       "        <th class=\"col_heading level1 col0\" >sum</th> \n",
       "        <th class=\"col_heading level1 col1\" >mean</th> \n",
       "        <th class=\"col_heading level1 col2\" >min</th> \n",
       "        <th class=\"col_heading level1 col3\" >max</th> \n",
       "    </tr>    <tr> \n",
       "        <th class=\"index_name level0\" >benua</th> \n",
       "        <th class=\"blank\" ></th> \n",
       "        <th class=\"blank\" ></th> \n",
       "        <th class=\"blank\" ></th> \n",
       "        <th class=\"blank\" ></th> \n",
       "    </tr></thead> \n",
       "<tbody>    <tr> \n",
       "        <th id=\"T_33d3a45c_d6cd_11e8_be53_305a3a8b7161level0_row0\" class=\"row_heading level0 row0\" >Afrika</th> \n",
       "        <td id=\"T_33d3a45c_d6cd_11e8_be53_305a3a8b7161row0_col0\" class=\"data row0 col0\" >       24,840,887.36 $</td> \n",
       "        <td id=\"T_33d3a45c_d6cd_11e8_be53_305a3a8b7161row0_col1\" class=\"data row0 col1\" >          115,004.11 $</td> \n",
       "        <td id=\"T_33d3a45c_d6cd_11e8_be53_305a3a8b7161row0_col2\" class=\"data row0 col2\" >           20,862.00 $</td> \n",
       "        <td id=\"T_33d3a45c_d6cd_11e8_be53_305a3a8b7161row0_col3\" class=\"data row0 col3\" >          326,901.00 $</td> \n",
       "    </tr>    <tr> \n",
       "        <th id=\"T_33d3a45c_d6cd_11e8_be53_305a3a8b7161level0_row1\" class=\"row_heading level0 row1\" >Amerika</th> \n",
       "        <td id=\"T_33d3a45c_d6cd_11e8_be53_305a3a8b7161row1_col0\" class=\"data row1 col0\" >      147,498,543.00 $</td> \n",
       "        <td id=\"T_33d3a45c_d6cd_11e8_be53_305a3a8b7161row1_col1\" class=\"data row1 col1\" >          227,621.21 $</td> \n",
       "        <td id=\"T_33d3a45c_d6cd_11e8_be53_305a3a8b7161row1_col2\" class=\"data row1 col2\" >            7,279.00 $</td> \n",
       "        <td id=\"T_33d3a45c_d6cd_11e8_be53_305a3a8b7161row1_col3\" class=\"data row1 col3\" >        1,538,105.00 $</td> \n",
       "    </tr>    <tr> \n",
       "        <th id=\"T_33d3a45c_d6cd_11e8_be53_305a3a8b7161level0_row2\" class=\"row_heading level0 row2\" >Asia dan Timur Tengah</th> \n",
       "        <td id=\"T_33d3a45c_d6cd_11e8_be53_305a3a8b7161row2_col0\" class=\"data row2 col0\" >      912,358,568.45 $</td> \n",
       "        <td id=\"T_33d3a45c_d6cd_11e8_be53_305a3a8b7161row2_col1\" class=\"data row2 col1\" >          444,619.19 $</td> \n",
       "        <td id=\"T_33d3a45c_d6cd_11e8_be53_305a3a8b7161row2_col2\" class=\"data row2 col2\" >                0.00 $</td> \n",
       "        <td id=\"T_33d3a45c_d6cd_11e8_be53_305a3a8b7161row2_col3\" class=\"data row2 col3\" >        3,068,508.00 $</td> \n",
       "    </tr>    <tr> \n",
       "        <th id=\"T_33d3a45c_d6cd_11e8_be53_305a3a8b7161level0_row3\" class=\"row_heading level0 row3\" >Australia dan Oceania</th> \n",
       "        <td id=\"T_33d3a45c_d6cd_11e8_be53_305a3a8b7161row3_col0\" class=\"data row3 col0\" >       40,371,214.49 $</td> \n",
       "        <td id=\"T_33d3a45c_d6cd_11e8_be53_305a3a8b7161row3_col1\" class=\"data row3 col1\" >          186,903.77 $</td> \n",
       "        <td id=\"T_33d3a45c_d6cd_11e8_be53_305a3a8b7161row3_col2\" class=\"data row3 col2\" >           10,571.00 $</td> \n",
       "        <td id=\"T_33d3a45c_d6cd_11e8_be53_305a3a8b7161row3_col3\" class=\"data row3 col3\" >          656,625.00 $</td> \n",
       "    </tr>    <tr> \n",
       "        <th id=\"T_33d3a45c_d6cd_11e8_be53_305a3a8b7161level0_row4\" class=\"row_heading level0 row4\" >Ekspor yang tidak dapat diklasifikasikan </th> \n",
       "        <td id=\"T_33d3a45c_d6cd_11e8_be53_305a3a8b7161row4_col0\" class=\"data row4 col0\" >       14,592,885.85 $</td> \n",
       "        <td id=\"T_33d3a45c_d6cd_11e8_be53_305a3a8b7161row4_col1\" class=\"data row4 col1\" >          135,119.31 $</td> \n",
       "        <td id=\"T_33d3a45c_d6cd_11e8_be53_305a3a8b7161row4_col2\" class=\"data row4 col2\" >           47,994.00 $</td> \n",
       "        <td id=\"T_33d3a45c_d6cd_11e8_be53_305a3a8b7161row4_col3\" class=\"data row4 col3\" >          304,651.00 $</td> \n",
       "    </tr>    <tr> \n",
       "        <th id=\"T_33d3a45c_d6cd_11e8_be53_305a3a8b7161level0_row5\" class=\"row_heading level0 row5\" >Eropa</th> \n",
       "        <td id=\"T_33d3a45c_d6cd_11e8_be53_305a3a8b7161row5_col0\" class=\"data row5 col0\" >      157,281,507.24 $</td> \n",
       "        <td id=\"T_33d3a45c_d6cd_11e8_be53_305a3a8b7161row5_col1\" class=\"data row5 col1\" >          132,391.84 $</td> \n",
       "        <td id=\"T_33d3a45c_d6cd_11e8_be53_305a3a8b7161row5_col2\" class=\"data row5 col2\" >           11,308.00 $</td> \n",
       "        <td id=\"T_33d3a45c_d6cd_11e8_be53_305a3a8b7161row5_col3\" class=\"data row5 col3\" >          580,403.00 $</td> \n",
       "    </tr></tbody> \n",
       "</table> "
      ],
      "text/plain": [
       "<pandas.io.formats.style.Styler at 0x1fe18befb00>"
      ]
     },
     "execution_count": 6,
     "metadata": {},
     "output_type": "execute_result"
    }
   ],
   "source": [
    "data_ekspor[['benua','nilai_ekspor']].groupby('benua').agg(['sum','mean','min','max']).style.format(\"{:20,.2f} $\")"
   ]
  },
  {
   "cell_type": "markdown",
   "metadata": {},
   "source": [
    "##### Visualisasi"
   ]
  },
  {
   "cell_type": "code",
   "execution_count": 7,
   "metadata": {},
   "outputs": [
    {
     "data": {
      "text/plain": [
       "array([<matplotlib.axes._subplots.AxesSubplot object at 0x000001FE18E21400>],\n",
       "      dtype=object)"
      ]
     },
     "execution_count": 7,
     "metadata": {},
     "output_type": "execute_result"
    },
    {
     "data": {
      "image/png": "[encoded data removed]",
      "text/plain": [
       "<Figure size 432x432 with 1 Axes>"
      ]
     },
     "metadata": {},
     "output_type": "display_data"
    }
   ],
   "source": [
    "ax2 = data_ekspor[['benua','nilai_ekspor']].groupby('benua').sum()\n",
    "ax2.plot(kind='pie', title =\"Total Nilai Ekspor per Benua\", legend=True, fontsize=12, subplots= True, autopct='%.2f', figsize=(6, 6))"
   ]
  },
  {
   "cell_type": "markdown",
   "metadata": {},
   "source": [
    "##### Analisis :\n",
    "***\n",
    "Selama 2005-2013, benua Asia termasuk Timur Tengah menjadi wilayah tujuan ekspor terbesar Indonesia dengan nilai ekspor 912,35 Milyar USD atau memiliki proporsi 70.35 % dari keseluruhan nilai ekspor indonesia ke seluruh negara. Posisi berikutnya diikuti oleh negara-negara di benua Eropa dan Amerika yakni masing-masing 157,2 Milyar USD dan 147,49 Milyar USD atau memiliki proporsi sebesar 12.13 % dan 11.37 % dari Total Nilai Ekspor Indonesia ke seluruh negara.\n"
   ]
  },
  {
   "cell_type": "markdown",
   "metadata": {},
   "source": [
    "#### 2.4 Statistik Nilai Ekspor Indonesia per benua dan per tahun"
   ]
  },
  {
   "cell_type": "code",
   "execution_count": 8,
   "metadata": {},
   "outputs": [
    {
     "data": {
      "text/html": [
       "<style  type=\"text/css\" >\n",
       "</style>  \n",
       "<table id=\"T_3411ba0c_d6cd_11e8_aa8e_305a3a8b7161\" > \n",
       "<thead>    <tr> \n",
       "        <th class=\"blank\" ></th> \n",
       "        <th class=\"blank level0\" ></th> \n",
       "        <th class=\"col_heading level0 col0\" colspan=4>nilai_ekspor</th> \n",
       "    </tr>    <tr> \n",
       "        <th class=\"blank\" ></th> \n",
       "        <th class=\"blank level1\" ></th> \n",
       "        <th class=\"col_heading level1 col0\" >sum</th> \n",
       "        <th class=\"col_heading level1 col1\" >mean</th> \n",
       "        <th class=\"col_heading level1 col2\" >min</th> \n",
       "        <th class=\"col_heading level1 col3\" >max</th> \n",
       "    </tr>    <tr> \n",
       "        <th class=\"index_name level0\" >benua</th> \n",
       "        <th class=\"index_name level1\" >tahun</th> \n",
       "        <th class=\"blank\" ></th> \n",
       "        <th class=\"blank\" ></th> \n",
       "        <th class=\"blank\" ></th> \n",
       "        <th class=\"blank\" ></th> \n",
       "    </tr></thead> \n",
       "<tbody>    <tr> \n",
       "        <th id=\"T_3411ba0c_d6cd_11e8_aa8e_305a3a8b7161level0_row0\" class=\"row_heading level0 row0\" rowspan=9>Afrika</th> \n",
       "        <th id=\"T_3411ba0c_d6cd_11e8_aa8e_305a3a8b7161level1_row0\" class=\"row_heading level1 row0\" >2005</th> \n",
       "        <td id=\"T_3411ba0c_d6cd_11e8_aa8e_305a3a8b7161row0_col0\" class=\"data row0 col0\" >        1,360,274.74 $</td> \n",
       "        <td id=\"T_3411ba0c_d6cd_11e8_aa8e_305a3a8b7161row0_col1\" class=\"data row0 col1\" >           56,678.11 $</td> \n",
       "        <td id=\"T_3411ba0c_d6cd_11e8_aa8e_305a3a8b7161row0_col2\" class=\"data row0 col2\" >           21,568.00 $</td> \n",
       "        <td id=\"T_3411ba0c_d6cd_11e8_aa8e_305a3a8b7161row0_col3\" class=\"data row0 col3\" >          105,358.00 $</td> \n",
       "    </tr>    <tr> \n",
       "        <th id=\"T_3411ba0c_d6cd_11e8_aa8e_305a3a8b7161level1_row1\" class=\"row_heading level1 row1\" >2006</th> \n",
       "        <td id=\"T_3411ba0c_d6cd_11e8_aa8e_305a3a8b7161row1_col0\" class=\"data row1 col0\" >        1,527,848.62 $</td> \n",
       "        <td id=\"T_3411ba0c_d6cd_11e8_aa8e_305a3a8b7161row1_col1\" class=\"data row1 col1\" >           63,660.36 $</td> \n",
       "        <td id=\"T_3411ba0c_d6cd_11e8_aa8e_305a3a8b7161row1_col2\" class=\"data row1 col2\" >           20,862.00 $</td> \n",
       "        <td id=\"T_3411ba0c_d6cd_11e8_aa8e_305a3a8b7161row1_col3\" class=\"data row1 col3\" >          146,657.80 $</td> \n",
       "    </tr>    <tr> \n",
       "        <th id=\"T_3411ba0c_d6cd_11e8_aa8e_305a3a8b7161level1_row2\" class=\"row_heading level1 row2\" >2007</th> \n",
       "        <td id=\"T_3411ba0c_d6cd_11e8_aa8e_305a3a8b7161row2_col0\" class=\"data row2 col0\" >        1,860,224.00 $</td> \n",
       "        <td id=\"T_3411ba0c_d6cd_11e8_aa8e_305a3a8b7161row2_col1\" class=\"data row2 col1\" >           77,509.33 $</td> \n",
       "        <td id=\"T_3411ba0c_d6cd_11e8_aa8e_305a3a8b7161row2_col2\" class=\"data row2 col2\" >           34,723.00 $</td> \n",
       "        <td id=\"T_3411ba0c_d6cd_11e8_aa8e_305a3a8b7161row2_col3\" class=\"data row2 col3\" >          187,952.00 $</td> \n",
       "    </tr>    <tr> \n",
       "        <th id=\"T_3411ba0c_d6cd_11e8_aa8e_305a3a8b7161level1_row3\" class=\"row_heading level1 row3\" >2008</th> \n",
       "        <td id=\"T_3411ba0c_d6cd_11e8_aa8e_305a3a8b7161row3_col0\" class=\"data row3 col0\" >        2,444,949.00 $</td> \n",
       "        <td id=\"T_3411ba0c_d6cd_11e8_aa8e_305a3a8b7161row3_col1\" class=\"data row3 col1\" >          101,872.88 $</td> \n",
       "        <td id=\"T_3411ba0c_d6cd_11e8_aa8e_305a3a8b7161row3_col2\" class=\"data row3 col2\" >           37,529.00 $</td> \n",
       "        <td id=\"T_3411ba0c_d6cd_11e8_aa8e_305a3a8b7161row3_col3\" class=\"data row3 col3\" >          189,926.00 $</td> \n",
       "    </tr>    <tr> \n",
       "        <th id=\"T_3411ba0c_d6cd_11e8_aa8e_305a3a8b7161level1_row4\" class=\"row_heading level1 row4\" >2009</th> \n",
       "        <td id=\"T_3411ba0c_d6cd_11e8_aa8e_305a3a8b7161row4_col0\" class=\"data row4 col0\" >        2,006,234.00 $</td> \n",
       "        <td id=\"T_3411ba0c_d6cd_11e8_aa8e_305a3a8b7161row4_col1\" class=\"data row4 col1\" >           83,593.08 $</td> \n",
       "        <td id=\"T_3411ba0c_d6cd_11e8_aa8e_305a3a8b7161row4_col2\" class=\"data row4 col2\" >           26,514.00 $</td> \n",
       "        <td id=\"T_3411ba0c_d6cd_11e8_aa8e_305a3a8b7161row4_col3\" class=\"data row4 col3\" >          179,653.00 $</td> \n",
       "    </tr>    <tr> \n",
       "        <th id=\"T_3411ba0c_d6cd_11e8_aa8e_305a3a8b7161level1_row5\" class=\"row_heading level1 row5\" >2010</th> \n",
       "        <td id=\"T_3411ba0c_d6cd_11e8_aa8e_305a3a8b7161row5_col0\" class=\"data row5 col0\" >        2,567,376.00 $</td> \n",
       "        <td id=\"T_3411ba0c_d6cd_11e8_aa8e_305a3a8b7161row5_col1\" class=\"data row5 col1\" >          106,974.00 $</td> \n",
       "        <td id=\"T_3411ba0c_d6cd_11e8_aa8e_305a3a8b7161row5_col2\" class=\"data row5 col2\" >           33,886.00 $</td> \n",
       "        <td id=\"T_3411ba0c_d6cd_11e8_aa8e_305a3a8b7161row5_col3\" class=\"data row5 col3\" >          198,153.00 $</td> \n",
       "    </tr>    <tr> \n",
       "        <th id=\"T_3411ba0c_d6cd_11e8_aa8e_305a3a8b7161level1_row6\" class=\"row_heading level1 row6\" >2011</th> \n",
       "        <td id=\"T_3411ba0c_d6cd_11e8_aa8e_305a3a8b7161row6_col0\" class=\"data row6 col0\" >        4,053,808.00 $</td> \n",
       "        <td id=\"T_3411ba0c_d6cd_11e8_aa8e_305a3a8b7161row6_col1\" class=\"data row6 col1\" >          168,908.67 $</td> \n",
       "        <td id=\"T_3411ba0c_d6cd_11e8_aa8e_305a3a8b7161row6_col2\" class=\"data row6 col2\" >           73,035.00 $</td> \n",
       "        <td id=\"T_3411ba0c_d6cd_11e8_aa8e_305a3a8b7161row6_col3\" class=\"data row6 col3\" >          288,970.00 $</td> \n",
       "    </tr>    <tr> \n",
       "        <th id=\"T_3411ba0c_d6cd_11e8_aa8e_305a3a8b7161level1_row7\" class=\"row_heading level1 row7\" >2012</th> \n",
       "        <td id=\"T_3411ba0c_d6cd_11e8_aa8e_305a3a8b7161row7_col0\" class=\"data row7 col0\" >        4,594,047.00 $</td> \n",
       "        <td id=\"T_3411ba0c_d6cd_11e8_aa8e_305a3a8b7161row7_col1\" class=\"data row7 col1\" >          191,418.62 $</td> \n",
       "        <td id=\"T_3411ba0c_d6cd_11e8_aa8e_305a3a8b7161row7_col2\" class=\"data row7 col2\" >           43,533.00 $</td> \n",
       "        <td id=\"T_3411ba0c_d6cd_11e8_aa8e_305a3a8b7161row7_col3\" class=\"data row7 col3\" >          326,901.00 $</td> \n",
       "    </tr>    <tr> \n",
       "        <th id=\"T_3411ba0c_d6cd_11e8_aa8e_305a3a8b7161level1_row8\" class=\"row_heading level1 row8\" >2013</th> \n",
       "        <td id=\"T_3411ba0c_d6cd_11e8_aa8e_305a3a8b7161row8_col0\" class=\"data row8 col0\" >        4,426,126.00 $</td> \n",
       "        <td id=\"T_3411ba0c_d6cd_11e8_aa8e_305a3a8b7161row8_col1\" class=\"data row8 col1\" >          184,421.92 $</td> \n",
       "        <td id=\"T_3411ba0c_d6cd_11e8_aa8e_305a3a8b7161row8_col2\" class=\"data row8 col2\" >           59,884.00 $</td> \n",
       "        <td id=\"T_3411ba0c_d6cd_11e8_aa8e_305a3a8b7161row8_col3\" class=\"data row8 col3\" >          307,990.00 $</td> \n",
       "    </tr>    <tr> \n",
       "        <th id=\"T_3411ba0c_d6cd_11e8_aa8e_305a3a8b7161level0_row9\" class=\"row_heading level0 row9\" rowspan=9>Amerika</th> \n",
       "        <th id=\"T_3411ba0c_d6cd_11e8_aa8e_305a3a8b7161level1_row9\" class=\"row_heading level1 row9\" >2005</th> \n",
       "        <td id=\"T_3411ba0c_d6cd_11e8_aa8e_305a3a8b7161row9_col0\" class=\"data row9 col0\" >       11,369,353.46 $</td> \n",
       "        <td id=\"T_3411ba0c_d6cd_11e8_aa8e_305a3a8b7161row9_col1\" class=\"data row9 col1\" >          157,907.69 $</td> \n",
       "        <td id=\"T_3411ba0c_d6cd_11e8_aa8e_305a3a8b7161row9_col2\" class=\"data row9 col2\" >            7,811.00 $</td> \n",
       "        <td id=\"T_3411ba0c_d6cd_11e8_aa8e_305a3a8b7161row9_col3\" class=\"data row9 col3\" >          951,692.00 $</td> \n",
       "    </tr>    <tr> \n",
       "        <th id=\"T_3411ba0c_d6cd_11e8_aa8e_305a3a8b7161level1_row10\" class=\"row_heading level1 row10\" >2006</th> \n",
       "        <td id=\"T_3411ba0c_d6cd_11e8_aa8e_305a3a8b7161row10_col0\" class=\"data row10 col0\" >       13,403,019.54 $</td> \n",
       "        <td id=\"T_3411ba0c_d6cd_11e8_aa8e_305a3a8b7161row10_col1\" class=\"data row10 col1\" >          186,153.05 $</td> \n",
       "        <td id=\"T_3411ba0c_d6cd_11e8_aa8e_305a3a8b7161row10_col2\" class=\"data row10 col2\" >            8,803.00 $</td> \n",
       "        <td id=\"T_3411ba0c_d6cd_11e8_aa8e_305a3a8b7161row10_col3\" class=\"data row10 col3\" >        1,062,604.00 $</td> \n",
       "    </tr>    <tr> \n",
       "        <th id=\"T_3411ba0c_d6cd_11e8_aa8e_305a3a8b7161level1_row11\" class=\"row_heading level1 row11\" >2007</th> \n",
       "        <td id=\"T_3411ba0c_d6cd_11e8_aa8e_305a3a8b7161row11_col0\" class=\"data row11 col0\" >       13,934,454.00 $</td> \n",
       "        <td id=\"T_3411ba0c_d6cd_11e8_aa8e_305a3a8b7161row11_col1\" class=\"data row11 col1\" >          193,534.08 $</td> \n",
       "        <td id=\"T_3411ba0c_d6cd_11e8_aa8e_305a3a8b7161row11_col2\" class=\"data row11 col2\" >            9,598.00 $</td> \n",
       "        <td id=\"T_3411ba0c_d6cd_11e8_aa8e_305a3a8b7161row11_col3\" class=\"data row11 col3\" >        1,100,581.00 $</td> \n",
       "    </tr>    <tr> \n",
       "        <th id=\"T_3411ba0c_d6cd_11e8_aa8e_305a3a8b7161level1_row12\" class=\"row_heading level1 row12\" >2008</th> \n",
       "        <td id=\"T_3411ba0c_d6cd_11e8_aa8e_305a3a8b7161row12_col0\" class=\"data row12 col0\" >       16,101,155.00 $</td> \n",
       "        <td id=\"T_3411ba0c_d6cd_11e8_aa8e_305a3a8b7161row12_col1\" class=\"data row12 col1\" >          223,627.15 $</td> \n",
       "        <td id=\"T_3411ba0c_d6cd_11e8_aa8e_305a3a8b7161row12_col2\" class=\"data row12 col2\" >           11,357.00 $</td> \n",
       "        <td id=\"T_3411ba0c_d6cd_11e8_aa8e_305a3a8b7161row12_col3\" class=\"data row12 col3\" >        1,281,943.00 $</td> \n",
       "    </tr>    <tr> \n",
       "        <th id=\"T_3411ba0c_d6cd_11e8_aa8e_305a3a8b7161level1_row13\" class=\"row_heading level1 row13\" >2009</th> \n",
       "        <td id=\"T_3411ba0c_d6cd_11e8_aa8e_305a3a8b7161row13_col0\" class=\"data row13 col0\" >       13,373,659.00 $</td> \n",
       "        <td id=\"T_3411ba0c_d6cd_11e8_aa8e_305a3a8b7161row13_col1\" class=\"data row13 col1\" >          185,745.26 $</td> \n",
       "        <td id=\"T_3411ba0c_d6cd_11e8_aa8e_305a3a8b7161row13_col2\" class=\"data row13 col2\" >            7,279.00 $</td> \n",
       "        <td id=\"T_3411ba0c_d6cd_11e8_aa8e_305a3a8b7161row13_col3\" class=\"data row13 col3\" >        1,050,722.00 $</td> \n",
       "    </tr>    <tr> \n",
       "        <th id=\"T_3411ba0c_d6cd_11e8_aa8e_305a3a8b7161level1_row14\" class=\"row_heading level1 row14\" >2010</th> \n",
       "        <td id=\"T_3411ba0c_d6cd_11e8_aa8e_305a3a8b7161row14_col0\" class=\"data row14 col0\" >       18,158,666.00 $</td> \n",
       "        <td id=\"T_3411ba0c_d6cd_11e8_aa8e_305a3a8b7161row14_col1\" class=\"data row14 col1\" >          252,203.69 $</td> \n",
       "        <td id=\"T_3411ba0c_d6cd_11e8_aa8e_305a3a8b7161row14_col2\" class=\"data row14 col2\" >           14,475.00 $</td> \n",
       "        <td id=\"T_3411ba0c_d6cd_11e8_aa8e_305a3a8b7161row14_col3\" class=\"data row14 col3\" >        1,396,924.00 $</td> \n",
       "    </tr>    <tr> \n",
       "        <th id=\"T_3411ba0c_d6cd_11e8_aa8e_305a3a8b7161level1_row15\" class=\"row_heading level1 row15\" >2011</th> \n",
       "        <td id=\"T_3411ba0c_d6cd_11e8_aa8e_305a3a8b7161row15_col0\" class=\"data row15 col0\" >       21,562,099.00 $</td> \n",
       "        <td id=\"T_3411ba0c_d6cd_11e8_aa8e_305a3a8b7161row15_col1\" class=\"data row15 col1\" >          299,473.60 $</td> \n",
       "        <td id=\"T_3411ba0c_d6cd_11e8_aa8e_305a3a8b7161row15_col2\" class=\"data row15 col2\" >           23,665.00 $</td> \n",
       "        <td id=\"T_3411ba0c_d6cd_11e8_aa8e_305a3a8b7161row15_col3\" class=\"data row15 col3\" >        1,538,105.00 $</td> \n",
       "    </tr>    <tr> \n",
       "        <th id=\"T_3411ba0c_d6cd_11e8_aa8e_305a3a8b7161level1_row16\" class=\"row_heading level1 row16\" >2012</th> \n",
       "        <td id=\"T_3411ba0c_d6cd_11e8_aa8e_305a3a8b7161row16_col0\" class=\"data row16 col0\" >       19,143,279.00 $</td> \n",
       "        <td id=\"T_3411ba0c_d6cd_11e8_aa8e_305a3a8b7161row16_col1\" class=\"data row16 col1\" >          265,878.88 $</td> \n",
       "        <td id=\"T_3411ba0c_d6cd_11e8_aa8e_305a3a8b7161row16_col2\" class=\"data row16 col2\" >           15,585.00 $</td> \n",
       "        <td id=\"T_3411ba0c_d6cd_11e8_aa8e_305a3a8b7161row16_col3\" class=\"data row16 col3\" >        1,333,041.00 $</td> \n",
       "    </tr>    <tr> \n",
       "        <th id=\"T_3411ba0c_d6cd_11e8_aa8e_305a3a8b7161level1_row17\" class=\"row_heading level1 row17\" >2013</th> \n",
       "        <td id=\"T_3411ba0c_d6cd_11e8_aa8e_305a3a8b7161row17_col0\" class=\"data row17 col0\" >       20,452,858.00 $</td> \n",
       "        <td id=\"T_3411ba0c_d6cd_11e8_aa8e_305a3a8b7161row17_col1\" class=\"data row17 col1\" >          284,067.47 $</td> \n",
       "        <td id=\"T_3411ba0c_d6cd_11e8_aa8e_305a3a8b7161row17_col2\" class=\"data row17 col2\" >           20,504.00 $</td> \n",
       "        <td id=\"T_3411ba0c_d6cd_11e8_aa8e_305a3a8b7161row17_col3\" class=\"data row17 col3\" >        1,476,333.00 $</td> \n",
       "    </tr>    <tr> \n",
       "        <th id=\"T_3411ba0c_d6cd_11e8_aa8e_305a3a8b7161level0_row18\" class=\"row_heading level0 row18\" rowspan=9>Asia dan Timur Tengah</th> \n",
       "        <th id=\"T_3411ba0c_d6cd_11e8_aa8e_305a3a8b7161level1_row18\" class=\"row_heading level1 row18\" >2005</th> \n",
       "        <td id=\"T_3411ba0c_d6cd_11e8_aa8e_305a3a8b7161row18_col0\" class=\"data row18 col0\" >       59,226,472.36 $</td> \n",
       "        <td id=\"T_3411ba0c_d6cd_11e8_aa8e_305a3a8b7161row18_col1\" class=\"data row18 col1\" >          259,765.23 $</td> \n",
       "        <td id=\"T_3411ba0c_d6cd_11e8_aa8e_305a3a8b7161row18_col2\" class=\"data row18 col2\" >                0.00 $</td> \n",
       "        <td id=\"T_3411ba0c_d6cd_11e8_aa8e_305a3a8b7161row18_col3\" class=\"data row18 col3\" >        1,694,625.00 $</td> \n",
       "    </tr>    <tr> \n",
       "        <th id=\"T_3411ba0c_d6cd_11e8_aa8e_305a3a8b7161level1_row19\" class=\"row_heading level1 row19\" >2006</th> \n",
       "        <td id=\"T_3411ba0c_d6cd_11e8_aa8e_305a3a8b7161row19_col0\" class=\"data row19 col0\" >       70,832,299.09 $</td> \n",
       "        <td id=\"T_3411ba0c_d6cd_11e8_aa8e_305a3a8b7161row19_col1\" class=\"data row19 col1\" >          310,667.98 $</td> \n",
       "        <td id=\"T_3411ba0c_d6cd_11e8_aa8e_305a3a8b7161row19_col2\" class=\"data row19 col2\" >               33.18 $</td> \n",
       "        <td id=\"T_3411ba0c_d6cd_11e8_aa8e_305a3a8b7161row19_col3\" class=\"data row19 col3\" >        2,221,691.00 $</td> \n",
       "    </tr>    <tr> \n",
       "        <th id=\"T_3411ba0c_d6cd_11e8_aa8e_305a3a8b7161level1_row20\" class=\"row_heading level1 row20\" >2007</th> \n",
       "        <td id=\"T_3411ba0c_d6cd_11e8_aa8e_305a3a8b7161row20_col0\" class=\"data row20 col0\" >       81,380,672.00 $</td> \n",
       "        <td id=\"T_3411ba0c_d6cd_11e8_aa8e_305a3a8b7161row20_col1\" class=\"data row20 col1\" >          356,932.77 $</td> \n",
       "        <td id=\"T_3411ba0c_d6cd_11e8_aa8e_305a3a8b7161row20_col2\" class=\"data row20 col2\" >               22.00 $</td> \n",
       "        <td id=\"T_3411ba0c_d6cd_11e8_aa8e_305a3a8b7161row20_col3\" class=\"data row20 col3\" >        2,407,026.00 $</td> \n",
       "    </tr>    <tr> \n",
       "        <th id=\"T_3411ba0c_d6cd_11e8_aa8e_305a3a8b7161level1_row21\" class=\"row_heading level1 row21\" >2008</th> \n",
       "        <td id=\"T_3411ba0c_d6cd_11e8_aa8e_305a3a8b7161row21_col0\" class=\"data row21 col0\" >       97,160,797.00 $</td> \n",
       "        <td id=\"T_3411ba0c_d6cd_11e8_aa8e_305a3a8b7161row21_col1\" class=\"data row21 col1\" >          426,143.85 $</td> \n",
       "        <td id=\"T_3411ba0c_d6cd_11e8_aa8e_305a3a8b7161row21_col2\" class=\"data row21 col2\" >              121.00 $</td> \n",
       "        <td id=\"T_3411ba0c_d6cd_11e8_aa8e_305a3a8b7161row21_col3\" class=\"data row21 col3\" >        2,830,650.00 $</td> \n",
       "    </tr>    <tr> \n",
       "        <th id=\"T_3411ba0c_d6cd_11e8_aa8e_305a3a8b7161level1_row22\" class=\"row_heading level1 row22\" >2009</th> \n",
       "        <td id=\"T_3411ba0c_d6cd_11e8_aa8e_305a3a8b7161row22_col0\" class=\"data row22 col0\" >       83,819,385.00 $</td> \n",
       "        <td id=\"T_3411ba0c_d6cd_11e8_aa8e_305a3a8b7161row22_col1\" class=\"data row22 col1\" >          367,628.88 $</td> \n",
       "        <td id=\"T_3411ba0c_d6cd_11e8_aa8e_305a3a8b7161row22_col2\" class=\"data row22 col2\" >               64.00 $</td> \n",
       "        <td id=\"T_3411ba0c_d6cd_11e8_aa8e_305a3a8b7161row22_col3\" class=\"data row22 col3\" >        2,113,298.00 $</td> \n",
       "    </tr>    <tr> \n",
       "        <th id=\"T_3411ba0c_d6cd_11e8_aa8e_305a3a8b7161level1_row23\" class=\"row_heading level1 row23\" >2010</th> \n",
       "        <td id=\"T_3411ba0c_d6cd_11e8_aa8e_305a3a8b7161row23_col0\" class=\"data row23 col0\" >      111,347,178.00 $</td> \n",
       "        <td id=\"T_3411ba0c_d6cd_11e8_aa8e_305a3a8b7161row23_col1\" class=\"data row23 col1\" >          488,364.82 $</td> \n",
       "        <td id=\"T_3411ba0c_d6cd_11e8_aa8e_305a3a8b7161row23_col2\" class=\"data row23 col2\" >              105.00 $</td> \n",
       "        <td id=\"T_3411ba0c_d6cd_11e8_aa8e_305a3a8b7161row23_col3\" class=\"data row23 col3\" >        2,559,509.00 $</td> \n",
       "    </tr>    <tr> \n",
       "        <th id=\"T_3411ba0c_d6cd_11e8_aa8e_305a3a8b7161level1_row24\" class=\"row_heading level1 row24\" >2011</th> \n",
       "        <td id=\"T_3411ba0c_d6cd_11e8_aa8e_305a3a8b7161row24_col0\" class=\"data row24 col0\" >      142,779,483.00 $</td> \n",
       "        <td id=\"T_3411ba0c_d6cd_11e8_aa8e_305a3a8b7161row24_col1\" class=\"data row24 col1\" >          626,225.80 $</td> \n",
       "        <td id=\"T_3411ba0c_d6cd_11e8_aa8e_305a3a8b7161row24_col2\" class=\"data row24 col2\" >              281.00 $</td> \n",
       "        <td id=\"T_3411ba0c_d6cd_11e8_aa8e_305a3a8b7161row24_col3\" class=\"data row24 col3\" >        3,068,508.00 $</td> \n",
       "    </tr>    <tr> \n",
       "        <th id=\"T_3411ba0c_d6cd_11e8_aa8e_305a3a8b7161level1_row25\" class=\"row_heading level1 row25\" >2012</th> \n",
       "        <td id=\"T_3411ba0c_d6cd_11e8_aa8e_305a3a8b7161row25_col0\" class=\"data row25 col0\" >      135,585,448.00 $</td> \n",
       "        <td id=\"T_3411ba0c_d6cd_11e8_aa8e_305a3a8b7161row25_col1\" class=\"data row25 col1\" >          594,673.02 $</td> \n",
       "        <td id=\"T_3411ba0c_d6cd_11e8_aa8e_305a3a8b7161row25_col2\" class=\"data row25 col2\" >              292.00 $</td> \n",
       "        <td id=\"T_3411ba0c_d6cd_11e8_aa8e_305a3a8b7161row25_col3\" class=\"data row25 col3\" >        2,879,350.00 $</td> \n",
       "    </tr>    <tr> \n",
       "        <th id=\"T_3411ba0c_d6cd_11e8_aa8e_305a3a8b7161level1_row26\" class=\"row_heading level1 row26\" >2013</th> \n",
       "        <td id=\"T_3411ba0c_d6cd_11e8_aa8e_305a3a8b7161row26_col0\" class=\"data row26 col0\" >      130,226,834.00 $</td> \n",
       "        <td id=\"T_3411ba0c_d6cd_11e8_aa8e_305a3a8b7161row26_col1\" class=\"data row26 col1\" >          571,170.32 $</td> \n",
       "        <td id=\"T_3411ba0c_d6cd_11e8_aa8e_305a3a8b7161row26_col2\" class=\"data row26 col2\" >              169.00 $</td> \n",
       "        <td id=\"T_3411ba0c_d6cd_11e8_aa8e_305a3a8b7161row26_col3\" class=\"data row26 col3\" >        2,489,607.00 $</td> \n",
       "    </tr>    <tr> \n",
       "        <th id=\"T_3411ba0c_d6cd_11e8_aa8e_305a3a8b7161level0_row27\" class=\"row_heading level0 row27\" rowspan=9>Australia dan Oceania</th> \n",
       "        <th id=\"T_3411ba0c_d6cd_11e8_aa8e_305a3a8b7161level1_row27\" class=\"row_heading level1 row27\" >2005</th> \n",
       "        <td id=\"T_3411ba0c_d6cd_11e8_aa8e_305a3a8b7161row27_col0\" class=\"data row27 col0\" >        2,604,845.51 $</td> \n",
       "        <td id=\"T_3411ba0c_d6cd_11e8_aa8e_305a3a8b7161row27_col1\" class=\"data row27 col1\" >          108,535.23 $</td> \n",
       "        <td id=\"T_3411ba0c_d6cd_11e8_aa8e_305a3a8b7161row27_col2\" class=\"data row27 col2\" >           10,571.00 $</td> \n",
       "        <td id=\"T_3411ba0c_d6cd_11e8_aa8e_305a3a8b7161row27_col3\" class=\"data row27 col3\" >          251,816.00 $</td> \n",
       "    </tr>    <tr> \n",
       "        <th id=\"T_3411ba0c_d6cd_11e8_aa8e_305a3a8b7161level1_row28\" class=\"row_heading level1 row28\" >2006</th> \n",
       "        <td id=\"T_3411ba0c_d6cd_11e8_aa8e_305a3a8b7161row28_col0\" class=\"data row28 col0\" >        3,164,588.98 $</td> \n",
       "        <td id=\"T_3411ba0c_d6cd_11e8_aa8e_305a3a8b7161row28_col1\" class=\"data row28 col1\" >          131,857.87 $</td> \n",
       "        <td id=\"T_3411ba0c_d6cd_11e8_aa8e_305a3a8b7161row28_col2\" class=\"data row28 col2\" >           15,681.00 $</td> \n",
       "        <td id=\"T_3411ba0c_d6cd_11e8_aa8e_305a3a8b7161row28_col3\" class=\"data row28 col3\" >          448,175.50 $</td> \n",
       "    </tr>    <tr> \n",
       "        <th id=\"T_3411ba0c_d6cd_11e8_aa8e_305a3a8b7161level1_row29\" class=\"row_heading level1 row29\" >2007</th> \n",
       "        <td id=\"T_3411ba0c_d6cd_11e8_aa8e_305a3a8b7161row29_col0\" class=\"data row29 col0\" >        4,069,022.00 $</td> \n",
       "        <td id=\"T_3411ba0c_d6cd_11e8_aa8e_305a3a8b7161row29_col1\" class=\"data row29 col1\" >          169,542.58 $</td> \n",
       "        <td id=\"T_3411ba0c_d6cd_11e8_aa8e_305a3a8b7161row29_col2\" class=\"data row29 col2\" >           16,004.00 $</td> \n",
       "        <td id=\"T_3411ba0c_d6cd_11e8_aa8e_305a3a8b7161row29_col3\" class=\"data row29 col3\" >          399,348.00 $</td> \n",
       "    </tr>    <tr> \n",
       "        <th id=\"T_3411ba0c_d6cd_11e8_aa8e_305a3a8b7161level1_row30\" class=\"row_heading level1 row30\" >2008</th> \n",
       "        <td id=\"T_3411ba0c_d6cd_11e8_aa8e_305a3a8b7161row30_col0\" class=\"data row30 col0\" >        4,850,726.00 $</td> \n",
       "        <td id=\"T_3411ba0c_d6cd_11e8_aa8e_305a3a8b7161row30_col1\" class=\"data row30 col1\" >          202,113.58 $</td> \n",
       "        <td id=\"T_3411ba0c_d6cd_11e8_aa8e_305a3a8b7161row30_col2\" class=\"data row30 col2\" >           15,262.00 $</td> \n",
       "        <td id=\"T_3411ba0c_d6cd_11e8_aa8e_305a3a8b7161row30_col3\" class=\"data row30 col3\" >          580,635.00 $</td> \n",
       "    </tr>    <tr> \n",
       "        <th id=\"T_3411ba0c_d6cd_11e8_aa8e_305a3a8b7161level1_row31\" class=\"row_heading level1 row31\" >2009</th> \n",
       "        <td id=\"T_3411ba0c_d6cd_11e8_aa8e_305a3a8b7161row31_col0\" class=\"data row31 col0\" >        3,705,170.00 $</td> \n",
       "        <td id=\"T_3411ba0c_d6cd_11e8_aa8e_305a3a8b7161row31_col1\" class=\"data row31 col1\" >          154,382.08 $</td> \n",
       "        <td id=\"T_3411ba0c_d6cd_11e8_aa8e_305a3a8b7161row31_col2\" class=\"data row31 col2\" >           16,984.00 $</td> \n",
       "        <td id=\"T_3411ba0c_d6cd_11e8_aa8e_305a3a8b7161row31_col3\" class=\"data row31 col3\" >          357,823.00 $</td> \n",
       "    </tr>    <tr> \n",
       "        <th id=\"T_3411ba0c_d6cd_11e8_aa8e_305a3a8b7161level1_row32\" class=\"row_heading level1 row32\" >2010</th> \n",
       "        <td id=\"T_3411ba0c_d6cd_11e8_aa8e_305a3a8b7161row32_col0\" class=\"data row32 col0\" >        4,742,892.00 $</td> \n",
       "        <td id=\"T_3411ba0c_d6cd_11e8_aa8e_305a3a8b7161row32_col1\" class=\"data row32 col1\" >          197,620.50 $</td> \n",
       "        <td id=\"T_3411ba0c_d6cd_11e8_aa8e_305a3a8b7161row32_col2\" class=\"data row32 col2\" >           20,206.00 $</td> \n",
       "        <td id=\"T_3411ba0c_d6cd_11e8_aa8e_305a3a8b7161row32_col3\" class=\"data row32 col3\" >          519,246.00 $</td> \n",
       "    </tr>    <tr> \n",
       "        <th id=\"T_3411ba0c_d6cd_11e8_aa8e_305a3a8b7161level1_row33\" class=\"row_heading level1 row33\" >2011</th> \n",
       "        <td id=\"T_3411ba0c_d6cd_11e8_aa8e_305a3a8b7161row33_col0\" class=\"data row33 col0\" >        6,246,276.00 $</td> \n",
       "        <td id=\"T_3411ba0c_d6cd_11e8_aa8e_305a3a8b7161row33_col1\" class=\"data row33 col1\" >          260,261.50 $</td> \n",
       "        <td id=\"T_3411ba0c_d6cd_11e8_aa8e_305a3a8b7161row33_col2\" class=\"data row33 col2\" >           25,769.00 $</td> \n",
       "        <td id=\"T_3411ba0c_d6cd_11e8_aa8e_305a3a8b7161row33_col3\" class=\"data row33 col3\" >          656,625.00 $</td> \n",
       "    </tr>    <tr> \n",
       "        <th id=\"T_3411ba0c_d6cd_11e8_aa8e_305a3a8b7161level1_row34\" class=\"row_heading level1 row34\" >2012</th> \n",
       "        <td id=\"T_3411ba0c_d6cd_11e8_aa8e_305a3a8b7161row34_col0\" class=\"data row34 col0\" >        5,448,379.00 $</td> \n",
       "        <td id=\"T_3411ba0c_d6cd_11e8_aa8e_305a3a8b7161row34_col1\" class=\"data row34 col1\" >          227,015.79 $</td> \n",
       "        <td id=\"T_3411ba0c_d6cd_11e8_aa8e_305a3a8b7161row34_col2\" class=\"data row34 col2\" >           49,752.00 $</td> \n",
       "        <td id=\"T_3411ba0c_d6cd_11e8_aa8e_305a3a8b7161row34_col3\" class=\"data row34 col3\" >          535,818.00 $</td> \n",
       "    </tr>    <tr> \n",
       "        <th id=\"T_3411ba0c_d6cd_11e8_aa8e_305a3a8b7161level1_row35\" class=\"row_heading level1 row35\" >2013</th> \n",
       "        <td id=\"T_3411ba0c_d6cd_11e8_aa8e_305a3a8b7161row35_col0\" class=\"data row35 col0\" >        5,539,315.00 $</td> \n",
       "        <td id=\"T_3411ba0c_d6cd_11e8_aa8e_305a3a8b7161row35_col1\" class=\"data row35 col1\" >          230,804.79 $</td> \n",
       "        <td id=\"T_3411ba0c_d6cd_11e8_aa8e_305a3a8b7161row35_col2\" class=\"data row35 col2\" >           47,431.00 $</td> \n",
       "        <td id=\"T_3411ba0c_d6cd_11e8_aa8e_305a3a8b7161row35_col3\" class=\"data row35 col3\" >          570,244.00 $</td> \n",
       "    </tr>    <tr> \n",
       "        <th id=\"T_3411ba0c_d6cd_11e8_aa8e_305a3a8b7161level0_row36\" class=\"row_heading level0 row36\" rowspan=9>Ekspor yang tidak dapat diklasifikasikan </th> \n",
       "        <th id=\"T_3411ba0c_d6cd_11e8_aa8e_305a3a8b7161level1_row36\" class=\"row_heading level1 row36\" >2005</th> \n",
       "        <td id=\"T_3411ba0c_d6cd_11e8_aa8e_305a3a8b7161row36_col0\" class=\"data row36 col0\" >        1,016,625.00 $</td> \n",
       "        <td id=\"T_3411ba0c_d6cd_11e8_aa8e_305a3a8b7161row36_col1\" class=\"data row36 col1\" >           84,718.75 $</td> \n",
       "        <td id=\"T_3411ba0c_d6cd_11e8_aa8e_305a3a8b7161row36_col2\" class=\"data row36 col2\" >           49,201.00 $</td> \n",
       "        <td id=\"T_3411ba0c_d6cd_11e8_aa8e_305a3a8b7161row36_col3\" class=\"data row36 col3\" >          148,269.00 $</td> \n",
       "    </tr>    <tr> \n",
       "        <th id=\"T_3411ba0c_d6cd_11e8_aa8e_305a3a8b7161level1_row37\" class=\"row_heading level1 row37\" >2006</th> \n",
       "        <td id=\"T_3411ba0c_d6cd_11e8_aa8e_305a3a8b7161row37_col0\" class=\"data row37 col0\" >          795,102.85 $</td> \n",
       "        <td id=\"T_3411ba0c_d6cd_11e8_aa8e_305a3a8b7161row37_col1\" class=\"data row37 col1\" >           66,258.57 $</td> \n",
       "        <td id=\"T_3411ba0c_d6cd_11e8_aa8e_305a3a8b7161row37_col2\" class=\"data row37 col2\" >           47,994.00 $</td> \n",
       "        <td id=\"T_3411ba0c_d6cd_11e8_aa8e_305a3a8b7161row37_col3\" class=\"data row37 col3\" >          124,909.00 $</td> \n",
       "    </tr>    <tr> \n",
       "        <th id=\"T_3411ba0c_d6cd_11e8_aa8e_305a3a8b7161level1_row38\" class=\"row_heading level1 row38\" >2007</th> \n",
       "        <td id=\"T_3411ba0c_d6cd_11e8_aa8e_305a3a8b7161row38_col0\" class=\"data row38 col0\" >          920,398.00 $</td> \n",
       "        <td id=\"T_3411ba0c_d6cd_11e8_aa8e_305a3a8b7161row38_col1\" class=\"data row38 col1\" >           76,699.83 $</td> \n",
       "        <td id=\"T_3411ba0c_d6cd_11e8_aa8e_305a3a8b7161row38_col2\" class=\"data row38 col2\" >           60,633.00 $</td> \n",
       "        <td id=\"T_3411ba0c_d6cd_11e8_aa8e_305a3a8b7161row38_col3\" class=\"data row38 col3\" >           98,543.00 $</td> \n",
       "    </tr>    <tr> \n",
       "        <th id=\"T_3411ba0c_d6cd_11e8_aa8e_305a3a8b7161level1_row39\" class=\"row_heading level1 row39\" >2008</th> \n",
       "        <td id=\"T_3411ba0c_d6cd_11e8_aa8e_305a3a8b7161row39_col0\" class=\"data row39 col0\" >        1,065,242.00 $</td> \n",
       "        <td id=\"T_3411ba0c_d6cd_11e8_aa8e_305a3a8b7161row39_col1\" class=\"data row39 col1\" >           88,770.17 $</td> \n",
       "        <td id=\"T_3411ba0c_d6cd_11e8_aa8e_305a3a8b7161row39_col2\" class=\"data row39 col2\" >           66,763.00 $</td> \n",
       "        <td id=\"T_3411ba0c_d6cd_11e8_aa8e_305a3a8b7161row39_col3\" class=\"data row39 col3\" >          113,227.00 $</td> \n",
       "    </tr>    <tr> \n",
       "        <th id=\"T_3411ba0c_d6cd_11e8_aa8e_305a3a8b7161level1_row40\" class=\"row_heading level1 row40\" >2009</th> \n",
       "        <td id=\"T_3411ba0c_d6cd_11e8_aa8e_305a3a8b7161row40_col0\" class=\"data row40 col0\" >        1,210,752.00 $</td> \n",
       "        <td id=\"T_3411ba0c_d6cd_11e8_aa8e_305a3a8b7161row40_col1\" class=\"data row40 col1\" >          100,896.00 $</td> \n",
       "        <td id=\"T_3411ba0c_d6cd_11e8_aa8e_305a3a8b7161row40_col2\" class=\"data row40 col2\" >           80,516.00 $</td> \n",
       "        <td id=\"T_3411ba0c_d6cd_11e8_aa8e_305a3a8b7161row40_col3\" class=\"data row40 col3\" >          115,000.00 $</td> \n",
       "    </tr>    <tr> \n",
       "        <th id=\"T_3411ba0c_d6cd_11e8_aa8e_305a3a8b7161level1_row41\" class=\"row_heading level1 row41\" >2010</th> \n",
       "        <td id=\"T_3411ba0c_d6cd_11e8_aa8e_305a3a8b7161row41_col0\" class=\"data row41 col0\" >        1,610,100.00 $</td> \n",
       "        <td id=\"T_3411ba0c_d6cd_11e8_aa8e_305a3a8b7161row41_col1\" class=\"data row41 col1\" >          134,175.00 $</td> \n",
       "        <td id=\"T_3411ba0c_d6cd_11e8_aa8e_305a3a8b7161row41_col2\" class=\"data row41 col2\" >           98,916.00 $</td> \n",
       "        <td id=\"T_3411ba0c_d6cd_11e8_aa8e_305a3a8b7161row41_col3\" class=\"data row41 col3\" >          149,968.00 $</td> \n",
       "    </tr>    <tr> \n",
       "        <th id=\"T_3411ba0c_d6cd_11e8_aa8e_305a3a8b7161level1_row42\" class=\"row_heading level1 row42\" >2011</th> \n",
       "        <td id=\"T_3411ba0c_d6cd_11e8_aa8e_305a3a8b7161row42_col0\" class=\"data row42 col0\" >        2,336,686.00 $</td> \n",
       "        <td id=\"T_3411ba0c_d6cd_11e8_aa8e_305a3a8b7161row42_col1\" class=\"data row42 col1\" >          194,723.83 $</td> \n",
       "        <td id=\"T_3411ba0c_d6cd_11e8_aa8e_305a3a8b7161row42_col2\" class=\"data row42 col2\" >          147,984.00 $</td> \n",
       "        <td id=\"T_3411ba0c_d6cd_11e8_aa8e_305a3a8b7161row42_col3\" class=\"data row42 col3\" >          218,436.00 $</td> \n",
       "    </tr>    <tr> \n",
       "        <th id=\"T_3411ba0c_d6cd_11e8_aa8e_305a3a8b7161level1_row43\" class=\"row_heading level1 row43\" >2012</th> \n",
       "        <td id=\"T_3411ba0c_d6cd_11e8_aa8e_305a3a8b7161row43_col0\" class=\"data row43 col0\" >        2,823,951.00 $</td> \n",
       "        <td id=\"T_3411ba0c_d6cd_11e8_aa8e_305a3a8b7161row43_col1\" class=\"data row43 col1\" >          235,329.25 $</td> \n",
       "        <td id=\"T_3411ba0c_d6cd_11e8_aa8e_305a3a8b7161row43_col2\" class=\"data row43 col2\" >          189,977.00 $</td> \n",
       "        <td id=\"T_3411ba0c_d6cd_11e8_aa8e_305a3a8b7161row43_col3\" class=\"data row43 col3\" >          304,651.00 $</td> \n",
       "    </tr>    <tr> \n",
       "        <th id=\"T_3411ba0c_d6cd_11e8_aa8e_305a3a8b7161level1_row44\" class=\"row_heading level1 row44\" >2013</th> \n",
       "        <td id=\"T_3411ba0c_d6cd_11e8_aa8e_305a3a8b7161row44_col0\" class=\"data row44 col0\" >        2,814,029.00 $</td> \n",
       "        <td id=\"T_3411ba0c_d6cd_11e8_aa8e_305a3a8b7161row44_col1\" class=\"data row44 col1\" >          234,502.42 $</td> \n",
       "        <td id=\"T_3411ba0c_d6cd_11e8_aa8e_305a3a8b7161row44_col2\" class=\"data row44 col2\" >          207,535.00 $</td> \n",
       "        <td id=\"T_3411ba0c_d6cd_11e8_aa8e_305a3a8b7161row44_col3\" class=\"data row44 col3\" >          269,824.00 $</td> \n",
       "    </tr>    <tr> \n",
       "        <th id=\"T_3411ba0c_d6cd_11e8_aa8e_305a3a8b7161level0_row45\" class=\"row_heading level0 row45\" rowspan=9>Eropa</th> \n",
       "        <th id=\"T_3411ba0c_d6cd_11e8_aa8e_305a3a8b7161level1_row45\" class=\"row_heading level1 row45\" >2005</th> \n",
       "        <td id=\"T_3411ba0c_d6cd_11e8_aa8e_305a3a8b7161row45_col0\" class=\"data row45 col0\" >       11,250,663.04 $</td> \n",
       "        <td id=\"T_3411ba0c_d6cd_11e8_aa8e_305a3a8b7161row45_col1\" class=\"data row45 col1\" >           85,232.30 $</td> \n",
       "        <td id=\"T_3411ba0c_d6cd_11e8_aa8e_305a3a8b7161row45_col2\" class=\"data row45 col2\" >           11,878.00 $</td> \n",
       "        <td id=\"T_3411ba0c_d6cd_11e8_aa8e_305a3a8b7161row45_col3\" class=\"data row45 col3\" >          230,979.00 $</td> \n",
       "    </tr>    <tr> \n",
       "        <th id=\"T_3411ba0c_d6cd_11e8_aa8e_305a3a8b7161level1_row46\" class=\"row_heading level1 row46\" >2006</th> \n",
       "        <td id=\"T_3411ba0c_d6cd_11e8_aa8e_305a3a8b7161row46_col0\" class=\"data row46 col0\" >       13,632,450.20 $</td> \n",
       "        <td id=\"T_3411ba0c_d6cd_11e8_aa8e_305a3a8b7161row46_col1\" class=\"data row46 col1\" >          103,276.14 $</td> \n",
       "        <td id=\"T_3411ba0c_d6cd_11e8_aa8e_305a3a8b7161row46_col2\" class=\"data row46 col2\" >           11,308.00 $</td> \n",
       "        <td id=\"T_3411ba0c_d6cd_11e8_aa8e_305a3a8b7161row46_col3\" class=\"data row46 col3\" >          281,748.70 $</td> \n",
       "    </tr>    <tr> \n",
       "        <th id=\"T_3411ba0c_d6cd_11e8_aa8e_305a3a8b7161level1_row47\" class=\"row_heading level1 row47\" >2007</th> \n",
       "        <td id=\"T_3411ba0c_d6cd_11e8_aa8e_305a3a8b7161row47_col0\" class=\"data row47 col0\" >       15,630,728.00 $</td> \n",
       "        <td id=\"T_3411ba0c_d6cd_11e8_aa8e_305a3a8b7161row47_col1\" class=\"data row47 col1\" >          118,414.61 $</td> \n",
       "        <td id=\"T_3411ba0c_d6cd_11e8_aa8e_305a3a8b7161row47_col2\" class=\"data row47 col2\" >           16,644.00 $</td> \n",
       "        <td id=\"T_3411ba0c_d6cd_11e8_aa8e_305a3a8b7161row47_col3\" class=\"data row47 col3\" >          359,499.00 $</td> \n",
       "    </tr>    <tr> \n",
       "        <th id=\"T_3411ba0c_d6cd_11e8_aa8e_305a3a8b7161level1_row48\" class=\"row_heading level1 row48\" >2008</th> \n",
       "        <td id=\"T_3411ba0c_d6cd_11e8_aa8e_305a3a8b7161row48_col0\" class=\"data row48 col0\" >       17,734,789.00 $</td> \n",
       "        <td id=\"T_3411ba0c_d6cd_11e8_aa8e_305a3a8b7161row48_col1\" class=\"data row48 col1\" >          134,354.46 $</td> \n",
       "        <td id=\"T_3411ba0c_d6cd_11e8_aa8e_305a3a8b7161row48_col2\" class=\"data row48 col2\" >           20,456.00 $</td> \n",
       "        <td id=\"T_3411ba0c_d6cd_11e8_aa8e_305a3a8b7161row48_col3\" class=\"data row48 col3\" >          487,973.00 $</td> \n",
       "    </tr>    <tr> \n",
       "        <th id=\"T_3411ba0c_d6cd_11e8_aa8e_305a3a8b7161level1_row49\" class=\"row_heading level1 row49\" >2009</th> \n",
       "        <td id=\"T_3411ba0c_d6cd_11e8_aa8e_305a3a8b7161row49_col0\" class=\"data row49 col0\" >       15,234,864.00 $</td> \n",
       "        <td id=\"T_3411ba0c_d6cd_11e8_aa8e_305a3a8b7161row49_col1\" class=\"data row49 col1\" >          115,415.64 $</td> \n",
       "        <td id=\"T_3411ba0c_d6cd_11e8_aa8e_305a3a8b7161row49_col2\" class=\"data row49 col2\" >           13,319.00 $</td> \n",
       "        <td id=\"T_3411ba0c_d6cd_11e8_aa8e_305a3a8b7161row49_col3\" class=\"data row49 col3\" >          343,884.00 $</td> \n",
       "    </tr>    <tr> \n",
       "        <th id=\"T_3411ba0c_d6cd_11e8_aa8e_305a3a8b7161level1_row50\" class=\"row_heading level1 row50\" >2010</th> \n",
       "        <td id=\"T_3411ba0c_d6cd_11e8_aa8e_305a3a8b7161row50_col0\" class=\"data row50 col0\" >       19,306,347.00 $</td> \n",
       "        <td id=\"T_3411ba0c_d6cd_11e8_aa8e_305a3a8b7161row50_col1\" class=\"data row50 col1\" >          146,260.20 $</td> \n",
       "        <td id=\"T_3411ba0c_d6cd_11e8_aa8e_305a3a8b7161row50_col2\" class=\"data row50 col2\" >           29,272.00 $</td> \n",
       "        <td id=\"T_3411ba0c_d6cd_11e8_aa8e_305a3a8b7161row50_col3\" class=\"data row50 col3\" >          440,305.00 $</td> \n",
       "    </tr>    <tr> \n",
       "        <th id=\"T_3411ba0c_d6cd_11e8_aa8e_305a3a8b7161level1_row51\" class=\"row_heading level1 row51\" >2011</th> \n",
       "        <td id=\"T_3411ba0c_d6cd_11e8_aa8e_305a3a8b7161row51_col0\" class=\"data row51 col0\" >       23,501,147.00 $</td> \n",
       "        <td id=\"T_3411ba0c_d6cd_11e8_aa8e_305a3a8b7161row51_col1\" class=\"data row51 col1\" >          178,038.99 $</td> \n",
       "        <td id=\"T_3411ba0c_d6cd_11e8_aa8e_305a3a8b7161row51_col2\" class=\"data row51 col2\" >           26,888.00 $</td> \n",
       "        <td id=\"T_3411ba0c_d6cd_11e8_aa8e_305a3a8b7161row51_col3\" class=\"data row51 col3\" >          580,403.00 $</td> \n",
       "    </tr>    <tr> \n",
       "        <th id=\"T_3411ba0c_d6cd_11e8_aa8e_305a3a8b7161level1_row52\" class=\"row_heading level1 row52\" >2012</th> \n",
       "        <td id=\"T_3411ba0c_d6cd_11e8_aa8e_305a3a8b7161row52_col0\" class=\"data row52 col0\" >       20,901,249.00 $</td> \n",
       "        <td id=\"T_3411ba0c_d6cd_11e8_aa8e_305a3a8b7161row52_col1\" class=\"data row52 col1\" >          158,342.80 $</td> \n",
       "        <td id=\"T_3411ba0c_d6cd_11e8_aa8e_305a3a8b7161row52_col2\" class=\"data row52 col2\" >           32,037.00 $</td> \n",
       "        <td id=\"T_3411ba0c_d6cd_11e8_aa8e_305a3a8b7161row52_col3\" class=\"data row52 col3\" >          465,285.00 $</td> \n",
       "    </tr>    <tr> \n",
       "        <th id=\"T_3411ba0c_d6cd_11e8_aa8e_305a3a8b7161level1_row53\" class=\"row_heading level1 row53\" >2013</th> \n",
       "        <td id=\"T_3411ba0c_d6cd_11e8_aa8e_305a3a8b7161row53_col0\" class=\"data row53 col0\" >       20,089,270.00 $</td> \n",
       "        <td id=\"T_3411ba0c_d6cd_11e8_aa8e_305a3a8b7161row53_col1\" class=\"data row53 col1\" >          152,191.44 $</td> \n",
       "        <td id=\"T_3411ba0c_d6cd_11e8_aa8e_305a3a8b7161row53_col2\" class=\"data row53 col2\" >           33,241.00 $</td> \n",
       "        <td id=\"T_3411ba0c_d6cd_11e8_aa8e_305a3a8b7161row53_col3\" class=\"data row53 col3\" >          402,183.00 $</td> \n",
       "    </tr></tbody> \n",
       "</table> "
      ],
      "text/plain": [
       "<pandas.io.formats.style.Styler at 0x1fe18c1f160>"
      ]
     },
     "execution_count": 8,
     "metadata": {},
     "output_type": "execute_result"
    }
   ],
   "source": [
    "data_ekspor[['benua', 'tahun',  'nilai_ekspor']].groupby(['benua','tahun']).agg(['sum','mean','min','max']).style.format(\"{:20,.2f} $\")"
   ]
  },
  {
   "cell_type": "markdown",
   "metadata": {},
   "source": [
    "##### Visualisasi"
   ]
  },
  {
   "cell_type": "code",
   "execution_count": 9,
   "metadata": {
    "scrolled": true
   },
   "outputs": [
    {
     "data": {
      "text/plain": [
       "Text(0,0.5,'Nilai Ekspor')"
      ]
     },
     "execution_count": 9,
     "metadata": {},
     "output_type": "execute_result"
    },
    {
     "data": {
      "image/png": "[encoded data removed]",
      "text/plain": [
       "<Figure size 1080x288 with 1 Axes>"
      ]
     },
     "metadata": {
      "needs_background": "light"
     },
     "output_type": "display_data"
    }
   ],
   "source": [
    "import matplotlib.pyplot as plt\n",
    "\n",
    "fig, ax4 = plt.subplots(figsize=(15,4))\n",
    "data_ekspor[['tahun', 'benua',  'nilai_ekspor']].groupby(['tahun','benua']).agg(['sum']).unstack().plot(ax=ax4)\n",
    "ax4.set_xlabel('Tahun')\n",
    "ax4.set_ylabel('Nilai Ekspor')"
   ]
  },
  {
   "cell_type": "markdown",
   "metadata": {},
   "source": [
    "##### Analisis :\n",
    "***\n",
    "Tren kenaikan ekspor indonesia sebagaimana telah ditunjukan pada poin 2.2, apabila diuraikan lebih rinci berdasarkan benua dari negara-negara tujuan ekspor, dapat dilihat bahwa terdapat perbedaan yang sangat signifikan antara nilai ekspor ke negara-negara di benua asia dan timur tenah dibandingkan dengan negara-negara di benua lain. Grafik di atas juga menunjukan bahwa penurunan ekspor Indonesia yang terjadi pada tahun 2009 disebabkan oleh penurunan ekspor secara global karena nilai ekspor ke negara-negara tujuan ekspor juga mengalami penurunan."
   ]
  },
  {
   "cell_type": "markdown",
   "metadata": {},
   "source": [
    "#### 2.5 Negara Tujuan Ekspor Utama Indonesia"
   ]
  },
  {
   "cell_type": "code",
   "execution_count": 10,
   "metadata": {},
   "outputs": [
    {
     "data": {
      "text/html": [
       "<style  type=\"text/css\" >\n",
       "</style>  \n",
       "<table id=\"T_345a53ac_d6cd_11e8_b641_305a3a8b7161\" > \n",
       "<thead>    <tr> \n",
       "        <th class=\"blank level0\" ></th> \n",
       "        <th class=\"col_heading level0 col0\" >nilai_ekspor</th> \n",
       "    </tr>    <tr> \n",
       "        <th class=\"blank level1\" ></th> \n",
       "        <th class=\"col_heading level1 col0\" >sum</th> \n",
       "    </tr>    <tr> \n",
       "        <th class=\"index_name level0\" >nama_negara</th> \n",
       "        <th class=\"blank\" ></th> \n",
       "    </tr></thead> \n",
       "<tbody>    <tr> \n",
       "        <th id=\"T_345a53ac_d6cd_11e8_b641_305a3a8b7161level0_row0\" class=\"row_heading level0 row0\" >Jepang</th> \n",
       "        <td id=\"T_345a53ac_d6cd_11e8_b641_305a3a8b7161row0_col0\" class=\"data row0 col0\" >      226,890,443.00 $</td> \n",
       "    </tr>    <tr> \n",
       "        <th id=\"T_345a53ac_d6cd_11e8_b641_305a3a8b7161level0_row1\" class=\"row_heading level0 row1\" >Republik Rakyat Cina</th> \n",
       "        <td id=\"T_345a53ac_d6cd_11e8_b641_305a3a8b7161row1_col0\" class=\"data row1 col0\" >      131,974,710.80 $</td> \n",
       "    </tr>    <tr> \n",
       "        <th id=\"T_345a53ac_d6cd_11e8_b641_305a3a8b7161level0_row2\" class=\"row_heading level0 row2\" >Amerika Serikat</th> \n",
       "        <td id=\"T_345a53ac_d6cd_11e8_b641_305a3a8b7161row2_col0\" class=\"data row2 col0\" >      117,582,375.20 $</td> \n",
       "    </tr>    <tr> \n",
       "        <th id=\"T_345a53ac_d6cd_11e8_b641_305a3a8b7161level0_row3\" class=\"row_heading level0 row3\" >Singapura</th> \n",
       "        <td id=\"T_345a53ac_d6cd_11e8_b641_305a3a8b7161row3_col0\" class=\"data row3 col0\" >      113,549,058.00 $</td> \n",
       "    </tr>    <tr> \n",
       "        <th id=\"T_345a53ac_d6cd_11e8_b641_305a3a8b7161level0_row4\" class=\"row_heading level0 row4\" >Korea Selatan</th> \n",
       "        <td id=\"T_345a53ac_d6cd_11e8_b641_305a3a8b7161row4_col0\" class=\"data row4 col0\" >       93,478,597.50 $</td> \n",
       "    </tr>    <tr> \n",
       "        <th id=\"T_345a53ac_d6cd_11e8_b641_305a3a8b7161level0_row5\" class=\"row_heading level0 row5\" >India</th> \n",
       "        <td id=\"T_345a53ac_d6cd_11e8_b641_305a3a8b7161row5_col0\" class=\"data row5 col0\" >       74,552,949.80 $</td> \n",
       "    </tr>    <tr> \n",
       "        <th id=\"T_345a53ac_d6cd_11e8_b641_305a3a8b7161level0_row6\" class=\"row_heading level0 row6\" >Malaysia</th> \n",
       "        <td id=\"T_345a53ac_d6cd_11e8_b641_305a3a8b7161row6_col0\" class=\"data row6 col0\" >       68,121,278.50 $</td> \n",
       "    </tr>    <tr> \n",
       "        <th id=\"T_345a53ac_d6cd_11e8_b641_305a3a8b7161level0_row7\" class=\"row_heading level0 row7\" >Asia dan Timur Tengah Lainnya</th> \n",
       "        <td id=\"T_345a53ac_d6cd_11e8_b641_305a3a8b7161row7_col0\" class=\"data row7 col0\" >       45,000,724.20 $</td> \n",
       "    </tr>    <tr> \n",
       "        <th id=\"T_345a53ac_d6cd_11e8_b641_305a3a8b7161level0_row8\" class=\"row_heading level0 row8\" >Thailand</th> \n",
       "        <td id=\"T_345a53ac_d6cd_11e8_b641_305a3a8b7161row8_col0\" class=\"data row8 col0\" >       38,205,510.20 $</td> \n",
       "    </tr>    <tr> \n",
       "        <th id=\"T_345a53ac_d6cd_11e8_b641_305a3a8b7161level0_row9\" class=\"row_heading level0 row9\" >Taiwan, Provinsi China</th> \n",
       "        <td id=\"T_345a53ac_d6cd_11e8_b641_305a3a8b7161row9_col0\" class=\"data row9 col0\" >       37,756,068.70 $</td> \n",
       "    </tr></tbody> \n",
       "</table> "
      ],
      "text/plain": [
       "<pandas.io.formats.style.Styler at 0x1fe18ca55f8>"
      ]
     },
     "execution_count": 10,
     "metadata": {},
     "output_type": "execute_result"
    }
   ],
   "source": [
    "data_ekspor[['nama_negara','nilai_ekspor']].groupby('nama_negara').agg(['sum']).sort_values([('nilai_ekspor','sum')], ascending = False).head(10).style.format(\"{:20,.2f} $\")"
   ]
  },
  {
   "cell_type": "markdown",
   "metadata": {},
   "source": [
    "##### Visualisasi"
   ]
  },
  {
   "cell_type": "code",
   "execution_count": 11,
   "metadata": {},
   "outputs": [
    {
     "data": {
      "text/plain": [
       "<matplotlib.axes._subplots.AxesSubplot at 0x1fe18d14ac8>"
      ]
     },
     "execution_count": 11,
     "metadata": {},
     "output_type": "execute_result"
    },
    {
     "data": {
      "image/png": "[encoded data removed]",
      "text/plain": [
       "<Figure size 432x288 with 1 Axes>"
      ]
     },
     "metadata": {
      "needs_background": "light"
     },
     "output_type": "display_data"
    }
   ],
   "source": [
    "ax3 = data_ekspor[['nama_negara','nilai_ekspor']].groupby('nama_negara').agg(['sum']).sort_values([('nilai_ekspor','sum')], ascending = False).head(10)\n",
    "ax3.plot.bar()"
   ]
  },
  {
   "cell_type": "markdown",
   "metadata": {},
   "source": [
    "##### Analisis :\n",
    "***\n",
    "Jepang merupakan Negara Mitra Ekspor terbesar Indonesia, disusul Tiongkok dan Amerika Serikat. Nilai Ekspor Indonesia ke Jepang mencapai 226,89 Milyar USD, ke Tiongkok 131,9 Milyar USD dan ke Amerika Serikat 117,58 Milyar USD. Negara-negara tujuan ekspor yang merupakan mitra dagang terbesar Indonesia setelah ketiga negara maju tersebut yang masuk dalam 10 besar Negara Tujuan Ekspor Indonesia didominisasi oleh negara-negara tentangga di kawasan ASEAN dan Asia Timur yakni Singapura, Korea Selatan, India, Malaysia, Negara-Negara Timur Tengah, Thailand dan Taiwan."
   ]
  },
  {
   "cell_type": "code",
   "execution_count": null,
   "metadata": {},
   "outputs": [],
   "source": []
  }
 ],
 "metadata": {
  "kernelspec": {
   "display_name": "Python 3",
   "language": "python",
   "name": "python3"
  },
  "language_info": {
   "codemirror_mode": {
    "name": "ipython",
    "version": 3
   },
   "file_extension": ".py",
   "mimetype": "text/x-python",
   "name": "python",
   "nbconvert_exporter": "python",
   "pygments_lexer": "ipython3",
   "version": "3.7.0"
  }
 },
 "nbformat": 4,
 "nbformat_minor": 2
}
