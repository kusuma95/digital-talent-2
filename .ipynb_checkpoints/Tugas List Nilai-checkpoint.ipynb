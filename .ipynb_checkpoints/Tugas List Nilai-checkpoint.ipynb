{
 "cells": [
  {
   "cell_type": "markdown",
   "metadata": {},
   "source": [
    "#  Nilai Random\n",
    "by :  __Bakhtiar Amaludin__ Kelas A Big Data "
   ]
  },
  {
   "cell_type": "markdown",
   "metadata": {},
   "source": [
    "## Generate Random Nilai"
   ]
  },
  {
   "cell_type": "code",
   "execution_count": 43,
   "metadata": {},
   "outputs": [
    {
     "name": "stdout",
     "output_type": "stream",
     "text": [
      "[74, 26, 35, 34, 52, 57, 17, 82, 89, 34, 39, 95, 40, 68, 2, 75, 99, 21, 26, 9, 64, 85, 22, 88, 78, 35, 54, 8, 40, 75, 4, 59, 53, 87, 44, 44, 35, 61, 36, 39, 36, 75, 72, 6, 35, 12, 36, 79, 24, 75, 54, 36, 71, 36, 55, 18, 86, 34, 4, 32, 37, 63, 87, 54, 61, 15, 67, 79, 71, 82, 2, 45, 23, 36, 67, 70, 38, 96, 27, 6, 61, 2, 61, 58, 86, 56, 66, 4, 85, 10, 16, 32, 58, 83, 64, 70, 13, 66, 42, 83, 71, 90, 56, 7, 15, 69, 79, 57, 8, 32, 8, 80, 25, 91, 75, 10, 94, 49, 11, 8, 58, 2, 1, 32, 62, 30, 7, 56, 32, 77, 30, 71, 46, 43, 6, 86, 52, 83, 69, 45, 14, 31, 89, 70, 7, 46, 50, 26, 79, 65, 86, 89, 94, 23, 18, 9, 47, 67, 75, 68, 36, 99, 96, 85, 41, 51, 17, 33, 61, 46, 1, 10, 83, 74, 76, 42, 60, 18, 39, 9, 32, 90, 7, 37, 80, 39, 45, 26, 57, 41, 97, 60, 76, 10, 40, 15, 46, 12, 20, 84, 23, 63, 31, 27, 59, 79, 6, 77, 8, 13, 91, 43, 59, 46, 5, 60, 83, 94, 88, 41, 99, 39, 83, 86, 71, 22, 21, 38, 17, 77, 38, 69, 33, 41, 2, 92, 77, 26, 3, 71, 59, 62, 60, 26, 49, 76, 6, 70, 34, 62]\n"
     ]
    }
   ],
   "source": [
    "import random\n",
    "\n",
    "# GENERATE RANDOM\n",
    "\n",
    "nilaiTugas = []\n",
    "for i in range(250):\n",
    "    nilaiTugas.append(random.randrange(1,100,1))\n",
    "\n",
    "print(nilaiTugas)\n",
    "\n"
   ]
  },
  {
   "cell_type": "markdown",
   "metadata": {},
   "source": [
    "## Menampilkan Nilai Ganjil"
   ]
  },
  {
   "cell_type": "code",
   "execution_count": 44,
   "metadata": {},
   "outputs": [
    {
     "name": "stdout",
     "output_type": "stream",
     "text": [
      "\n",
      "Daftar Nilai Ganjil (121 nilai) :\n",
      "[35, 57, 17, 89, 39, 95, 75, 99, 21, 9, 85, 35, 75, 59, 53, 87, 35, 61, 39, 75, 35, 79, 75, 71, 55, 37, 63, 87, 61, 15, 67, 79, 71, 45, 23, 67, 27, 61, 61, 85, 83, 13, 83, 71, 7, 15, 69, 79, 57, 25, 91, 75, 49, 11, 1, 7, 77, 71, 43, 83, 69, 45, 31, 89, 7, 79, 65, 89, 23, 9, 47, 67, 75, 99, 85, 41, 51, 17, 33, 61, 1, 83, 39, 9, 7, 37, 39, 45, 57, 41, 97, 15, 23, 63, 31, 27, 59, 79, 77, 13, 91, 43, 59, 5, 83, 41, 99, 39, 83, 71, 21, 17, 77, 69, 33, 41, 77, 3, 71, 59, 49]\n"
     ]
    }
   ],
   "source": [
    "# membuat list baru yang berisi nilai ganjil saja\n",
    "nilai_ganjil = [nilai for nilai in nilaiTugas if nilai % 2 == 1]\n",
    "print('\\nDaftar Nilai Ganjil ({} nilai) :'.format(len(nilai_ganjil)))\n",
    "print(nilai_ganjil)"
   ]
  },
  {
   "cell_type": "markdown",
   "metadata": {},
   "source": [
    "## Menampilkan Nilai > 70"
   ]
  },
  {
   "cell_type": "code",
   "execution_count": 45,
   "metadata": {},
   "outputs": [
    {
     "name": "stdout",
     "output_type": "stream",
     "text": [
      "\n",
      "Daftar Nilai > 70 (69 nilai) :\n",
      "[74, 82, 89, 95, 75, 99, 85, 88, 78, 75, 87, 75, 72, 79, 75, 71, 86, 87, 79, 71, 82, 96, 86, 85, 83, 83, 71, 90, 79, 80, 91, 75, 94, 77, 71, 86, 83, 89, 79, 86, 89, 94, 75, 99, 96, 85, 83, 74, 76, 90, 80, 97, 76, 84, 79, 77, 91, 83, 94, 88, 99, 83, 86, 71, 77, 92, 77, 71, 76]\n"
     ]
    }
   ],
   "source": [
    "# membuat list baru yang berisi nilai > 70\n",
    "nilai_70 = [nilai for nilai in nilaiTugas if nilai > 70]\n",
    "print('\\nDaftar Nilai > 70 ({} nilai) :'.format(len(nilai_70)))\n",
    "print(nilai_70)"
   ]
  },
  {
   "cell_type": "markdown",
   "metadata": {},
   "source": [
    "## Menampilkan Standar Deviasi"
   ]
  },
  {
   "cell_type": "code",
   "execution_count": 46,
   "metadata": {},
   "outputs": [
    {
     "name": "stdout",
     "output_type": "stream",
     "text": [
      "\n",
      "Standar Deviasi:\n",
      "27.840805336179994\n",
      "\n",
      "Test Hasil Standar Deviasi dengan library statistics:\n",
      "27.840805336179994 (OK)\n"
     ]
    }
   ],
   "source": [
    "import math\n",
    "import statistics # digunakan untuk pengujian hasil\n",
    "\n",
    "# inisiati variable untuk menjumlahkan x dan x1\n",
    "sum_x = 0\n",
    "sum_x2 = 0\n",
    "\n",
    "# menghitung jumlan n\n",
    "jmlNilai = len(nilaiTugas)\n",
    "\n",
    "# akumulasi nilai x dan x1\n",
    "for nilai in nilaiTugas:\n",
    "    sum_x += nilai\n",
    "    sum_x2 += pow(nilai, 2)\n",
    "\n",
    "# mencari varian dari list\n",
    "varian = (jmlNilai*sum_x2 - sum_x ** 2)/(jmlNilai * (jmlNilai-1))\n",
    "\n",
    "# menghitung standar deviasi\n",
    "standar_deviasi = math.sqrt(varian)\n",
    "\n",
    "# mencetak hasil perhitungan standar deviasi\n",
    "print('\\nStandar Deviasi:')\n",
    "print(standar_deviasi)\n",
    "\n",
    "# pengujian hasil dengan library statistics\n",
    "print('\\nTest Hasil Standar Deviasi dengan library statistics:')\n",
    "standar_deviasi_cek = statistics.stdev(nilaiTugas);\n",
    "print(standar_deviasi_cek, '(OK)' if standar_deviasi_cek == standar_deviasi else '(Salah)')\n"
   ]
  },
  {
   "cell_type": "markdown",
   "metadata": {},
   "source": [
    "# Menampilkan Nilai Minimum dan Maksimum"
   ]
  },
  {
   "cell_type": "code",
   "execution_count": 47,
   "metadata": {},
   "outputs": [
    {
     "name": "stdout",
     "output_type": "stream",
     "text": [
      "\n",
      "Nilai Maksimum   : 99\n",
      "Nilai Minimum    : 1\n",
      "\n",
      "Cek Hasil dengan fungsi min() dan max()\n",
      "\n",
      "Nilai Maksimum   : 99 (OK)\n",
      "Nilai Minimum    : 1 (OK)\n"
     ]
    }
   ],
   "source": [
    "# inisiasi variabel untuk menampung nilai min dan maks\n",
    "max_nilai = nilaiTugas[0]\n",
    "min_nilai = nilaiTugas[0]\n",
    "\n",
    "# iterasi untuk mencari nilai min dan max\n",
    "for nilai in nilaiTugas:\n",
    "    if nilai > max_nilai : max_nilai = nilai\n",
    "    if nilai < min_nilai: min_nilai = nilai\n",
    "\n",
    "# mencetak hasil\n",
    "print('\\nNilai Maksimum   :', max_nilai)\n",
    "print('Nilai Minimum    :', min_nilai)\n",
    "\n",
    "# pengujian hasil dengan built in function min() dan max()\n",
    "print('\\nCek Hasil dengan fungsi min() dan max()')\n",
    "max_nilai2 = max(nilaiTugas)\n",
    "min_nilai2 = min(nilaiTugas)\n",
    "print('\\nNilai Maksimum   :', max_nilai2, '(OK)' if max_nilai == max_nilai2 else '(Salah)')\n",
    "print('Nilai Minimum    :', min_nilai2, '(OK)' if min_nilai == min_nilai2 else '(Salah)')\n"
   ]
  },
  {
   "cell_type": "markdown",
   "metadata": {},
   "source": [
    "# Menampilkan Modus"
   ]
  },
  {
   "cell_type": "code",
   "execution_count": 48,
   "metadata": {},
   "outputs": [
    {
     "name": "stdout",
     "output_type": "stream",
     "text": [
      "\n",
      "Modus :\n",
      "36 dengan frek: 7\n",
      "\n",
      "Test Modus dengan library statistics:\n",
      "36 (OK)\n"
     ]
    }
   ],
   "source": [
    "import statistics # digunakan untuk pengujian hasil\n",
    "# Menampilkan nilai Terbanyak (Modus) dengan pure python \n",
    "\n",
    "# inisiasi dict untuk menampung daftar nilai dan frekuensinya\n",
    "frek_nilai_tugas = {}\n",
    "\n",
    "# iterasi untuk menyusun dict tersebut\n",
    "for nilai in nilaiTugas:\n",
    "    if nilai in frek_nilai_tugas:\n",
    "        frek_nilai_tugas[nilai] += 1\n",
    "    else: frek_nilai_tugas[nilai] = 1\n",
    "\n",
    "# inisiasi variabel untuk menandai key dari dictionary untuk mencari modus\n",
    "modus_key = 0\n",
    "modus_frek = 0\n",
    "\n",
    "# iterasi untuk mencari nilai yang sering muncul\n",
    "for key in frek_nilai_tugas:\n",
    "    if frek_nilai_tugas[key] > modus_frek:\n",
    "        modus_frek = frek_nilai_tugas[key]\n",
    "        modus_key = key;\n",
    "\n",
    "        \n",
    "# mencetak hasil perhitungan\n",
    "print('\\nModus :')\n",
    "print(modus_key, 'dengan frek: {}'.format(modus_frek))\n",
    "\n",
    "# pengujian nilai dengan library statistics\n",
    "print('\\nTest Modus dengan library statistics:')\n",
    "tes_modus = statistics.mode(nilaiTugas)\n",
    "print(tes_modus, '(OK)' if tes_modus == modus_key else '(Salah)')"
   ]
  },
  {
   "cell_type": "code",
   "execution_count": null,
   "metadata": {},
   "outputs": [],
   "source": []
  }
 ],
 "metadata": {
  "kernelspec": {
   "display_name": "Python 3",
   "language": "python",
   "name": "python3"
  },
  "language_info": {
   "codemirror_mode": {
    "name": "ipython",
    "version": 3
   },
   "file_extension": ".py",
   "mimetype": "text/x-python",
   "name": "python",
   "nbconvert_exporter": "python",
   "pygments_lexer": "ipython3",
   "version": "3.7.0"
  }
 },
 "nbformat": 4,
 "nbformat_minor": 2
}
