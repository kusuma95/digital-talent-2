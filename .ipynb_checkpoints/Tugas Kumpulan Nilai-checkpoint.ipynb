{
 "cells": [
  {
   "cell_type": "markdown",
   "metadata": {},
   "source": [
    "#  Nilai Random\n",
    "by :  __Bakhtiar Amaludin__ Kelas A Big Data "
   ]
  },
  {
   "cell_type": "markdown",
   "metadata": {},
   "source": [
    "## Generate Random Nilai"
   ]
  },
  {
   "cell_type": "code",
   "execution_count": 37,
   "metadata": {},
   "outputs": [
    {
     "name": "stdout",
     "output_type": "stream",
     "text": [
      "[72, 93, 95, 10, 94, 70, 98, 44, 40, 35, 59, 16, 73, 45, 48, 2, 72, 25, 52, 10, 24, 97, 18, 87, 56, 49, 2, 40, 37, 31, 65, 97, 59, 6, 68, 99, 54, 92, 77, 61, 2, 28, 21, 69, 96, 18, 59, 34, 11, 20, 65, 85, 23, 8, 71, 26, 79, 17, 40, 7, 17, 34, 77, 52, 70, 88, 16, 23, 88, 58, 57, 27, 54, 2, 18, 67, 6, 21, 52, 81, 73, 52, 21, 76, 76, 71, 67, 25, 52, 28, 96, 3, 65, 30, 70, 39, 97, 14, 58, 93, 78, 1, 29, 29, 58, 39, 44, 59, 55, 56, 14, 2, 50, 55, 14, 45, 10, 37, 17, 19, 20, 95, 30, 79, 55, 11, 2, 67, 16, 28, 62, 6, 95, 34, 28, 13, 7, 16, 67, 25, 17, 14, 17, 87, 38, 32, 78, 59, 98, 15, 45, 21, 78, 47, 96, 1, 39, 93, 82, 6, 88, 73, 39, 68, 97, 62, 56, 41, 67, 5, 98, 30, 36, 33, 44, 63, 16, 78, 27, 62, 62, 46, 73, 91, 73, 14, 93, 57, 87, 33, 27, 86, 3, 32, 11, 69, 53, 78, 20, 98, 28, 82, 93, 69, 21, 76, 24, 58, 2, 91, 62, 65, 90, 57, 71, 92, 2, 47, 20, 87, 70, 4, 57, 26, 96, 69, 82, 8, 59, 26, 29, 87, 73, 37, 18, 86, 1, 48, 12, 46, 46, 54, 56, 34, 47, 22, 64, 26, 39, 88]\n"
     ]
    }
   ],
   "source": [
    "import random\n",
    "\n",
    "# GENERATE RANDOM\n",
    "\n",
    "nilaiTugas = []\n",
    "for i in range(250):\n",
    "    nilaiTugas.append(random.randrange(1,100,1))\n",
    "\n",
    "print(nilaiTugas)\n",
    "\n"
   ]
  },
  {
   "cell_type": "markdown",
   "metadata": {},
   "source": [
    "## Menampilkan Nilai Ganjil"
   ]
  },
  {
   "cell_type": "code",
   "execution_count": 38,
   "metadata": {},
   "outputs": [
    {
     "name": "stdout",
     "output_type": "stream",
     "text": [
      "\n",
      "Daftar Nilai Ganjil (119 nilai) :\n",
      "[93, 95, 35, 59, 73, 45, 25, 97, 87, 49, 37, 31, 65, 97, 59, 99, 77, 61, 21, 69, 59, 11, 65, 85, 23, 71, 79, 17, 7, 17, 77, 23, 57, 27, 67, 21, 81, 73, 21, 71, 67, 25, 3, 65, 39, 97, 93, 1, 29, 29, 39, 59, 55, 55, 45, 37, 17, 19, 95, 79, 55, 11, 67, 95, 13, 7, 67, 25, 17, 17, 87, 59, 15, 45, 21, 47, 1, 39, 93, 73, 39, 97, 41, 67, 5, 33, 63, 27, 73, 91, 73, 93, 57, 87, 33, 27, 3, 11, 69, 53, 93, 69, 21, 91, 65, 57, 71, 47, 87, 57, 69, 59, 29, 87, 73, 37, 1, 47, 39]\n"
     ]
    }
   ],
   "source": [
    "# membuat list baru yang berisi nilai ganjil saja\n",
    "nilai_ganjil = [nilai for nilai in nilaiTugas if nilai % 2 == 1]\n",
    "print('\\nDaftar Nilai Ganjil ({} nilai) :'.format(len(nilai_ganjil)))\n",
    "print(nilai_ganjil)"
   ]
  },
  {
   "cell_type": "markdown",
   "metadata": {},
   "source": [
    "## Menampilkan Nilai > 70"
   ]
  },
  {
   "cell_type": "code",
   "execution_count": 39,
   "metadata": {},
   "outputs": [
    {
     "name": "stdout",
     "output_type": "stream",
     "text": [
      "\n",
      "Daftar Nilai > 70 (66 nilai) :\n",
      "[72, 93, 95, 94, 98, 73, 72, 97, 87, 97, 99, 92, 77, 96, 85, 71, 79, 77, 88, 88, 81, 73, 76, 76, 71, 96, 97, 93, 78, 95, 79, 95, 87, 78, 98, 78, 96, 93, 82, 88, 73, 97, 98, 78, 73, 91, 73, 93, 87, 86, 78, 98, 82, 93, 76, 91, 90, 71, 92, 87, 96, 82, 87, 73, 86, 88]\n"
     ]
    }
   ],
   "source": [
    "# membuat list baru yang berisi nilai > 70\n",
    "nilai_70 = [nilai for nilai in nilaiTugas if nilai > 70]\n",
    "print('\\nDaftar Nilai > 70 ({} nilai) :'.format(len(nilai_70)))\n",
    "print(nilai_70)"
   ]
  },
  {
   "cell_type": "markdown",
   "metadata": {},
   "source": [
    "## Menampilkan Standar Deviasi"
   ]
  },
  {
   "cell_type": "code",
   "execution_count": 40,
   "metadata": {},
   "outputs": [
    {
     "name": "stdout",
     "output_type": "stream",
     "text": [
      "\n",
      "Standar Deviasi:\n",
      "29.040226635689482\n",
      "\n",
      "Test Hasil Standar Deviasi dengan library statistics:\n",
      "29.040226635689482 (OK)\n"
     ]
    }
   ],
   "source": [
    "import math\n",
    "import statistics # digunakan untuk pengujian hasil\n",
    "\n",
    "# inisiati variable untuk menjumlahkan x dan x1\n",
    "sum_x = 0\n",
    "sum_x2 = 0\n",
    "\n",
    "# menghitung jumlan n\n",
    "jmlNilai = len(nilaiTugas)\n",
    "\n",
    "# akumulasi nilai x dan x1\n",
    "for nilai in nilaiTugas:\n",
    "    sum_x += nilai\n",
    "    sum_x2 += pow(nilai, 2)\n",
    "\n",
    "# mencari varian dari list\n",
    "varian = (jmlNilai*sum_x2 - sum_x ** 2)/(jmlNilai * (jmlNilai-1))\n",
    "\n",
    "# menghitung standar deviasi\n",
    "standar_deviasi = math.sqrt(varian)\n",
    "\n",
    "# mencetak hasil perhitungan standar deviasi\n",
    "print('\\nStandar Deviasi:')\n",
    "print(standar_deviasi)\n",
    "\n",
    "# pengujian hasil dengan library statistics\n",
    "print('\\nTest Hasil Standar Deviasi dengan library statistics:')\n",
    "standar_deviasi_cek = statistics.stdev(nilaiTugas);\n",
    "print(standar_deviasi_cek, '(OK)' if standar_deviasi_cek == standar_deviasi else '(Salah)')\n"
   ]
  },
  {
   "cell_type": "markdown",
   "metadata": {},
   "source": [
    "# Menampilkan Nilai Minimum dan Maksimum"
   ]
  },
  {
   "cell_type": "code",
   "execution_count": 41,
   "metadata": {},
   "outputs": [
    {
     "name": "stdout",
     "output_type": "stream",
     "text": [
      "\n",
      "Nilai Maksimum   : 99\n",
      "Nilai Minimum    : 1\n",
      "\n",
      "Cek Hasil dengan fungsi min() dan max()\n",
      "\n",
      "Nilai Maksimum   : 99 (OK)\n",
      "Nilai Minimum    : 1 (OK)\n"
     ]
    }
   ],
   "source": [
    "# inisiasi variabel untuk menampung nilai min dan maks\n",
    "max_nilai = nilaiTugas[0]\n",
    "min_nilai = nilaiTugas[0]\n",
    "\n",
    "# iterasi untuk mencari nilai min dan max\n",
    "for nilai in nilaiTugas:\n",
    "    if nilai > max_nilai : max_nilai = nilai\n",
    "    if nilai < min_nilai: min_nilai = nilai\n",
    "\n",
    "# mencetak hasil\n",
    "print('\\nNilai Maksimum   :', max_nilai)\n",
    "print('Nilai Minimum    :', min_nilai)\n",
    "\n",
    "# pengujian hasil dengan built in function min() dan max()\n",
    "print('\\nCek Hasil dengan fungsi min() dan max()')\n",
    "max_nilai2 = max(nilaiTugas)\n",
    "min_nilai2 = min(nilaiTugas)\n",
    "print('\\nNilai Maksimum   :', max_nilai2, '(OK)' if max_nilai == max_nilai2 else '(Salah)')\n",
    "print('Nilai Minimum    :', min_nilai2, '(OK)' if min_nilai == min_nilai2 else '(Salah)')\n"
   ]
  },
  {
   "cell_type": "markdown",
   "metadata": {},
   "source": [
    "# Menampilkan Modus"
   ]
  },
  {
   "cell_type": "code",
   "execution_count": 42,
   "metadata": {},
   "outputs": [
    {
     "name": "stdout",
     "output_type": "stream",
     "text": [
      "\n",
      "Modus :\n",
      "2 dengan frek: 8\n",
      "\n",
      "Test Modus dengan library statistics:\n",
      "2 (OK)\n"
     ]
    }
   ],
   "source": [
    "import statistics # digunakan untuk pengujian hasil\n",
    "# Menampilkan nilai Terbanyak (Modus) dengan pure python \n",
    "\n",
    "# inisiasi dict untuk menampung daftar nilai dan frekuensinya\n",
    "frek_nilai_tugas = {}\n",
    "\n",
    "# iterasi untuk menyusun dict tersebut\n",
    "for nilai in nilaiTugas:\n",
    "    if nilai in frek_nilai_tugas:\n",
    "        frek_nilai_tugas[nilai] += 1\n",
    "    else: frek_nilai_tugas[nilai] = 1\n",
    "\n",
    "# inisiasi variabel untuk menandai key dari dictionary untuk mencari modus\n",
    "modus_key = 0\n",
    "modus_frek = 0\n",
    "\n",
    "# iterasi untuk mencari nilai yang sering muncul\n",
    "for key in frek_nilai_tugas:\n",
    "    if frek_nilai_tugas[key] > modus_frek:\n",
    "        modus_frek = frek_nilai_tugas[key]\n",
    "        modus_key = key;\n",
    "\n",
    "        \n",
    "# mencetak hasil perhitungan\n",
    "print('\\nModus :')\n",
    "print(modus_key, 'dengan frek: {}'.format(modus_frek))\n",
    "\n",
    "# pengujian nilai dengan library statistics\n",
    "print('\\nTest Modus dengan library statistics:')\n",
    "tes_modus = statistics.mode(nilaiTugas)\n",
    "print(tes_modus, '(OK)' if tes_modus == modus_key else '(Salah)')"
   ]
  },
  {
   "cell_type": "code",
   "execution_count": null,
   "metadata": {},
   "outputs": [],
   "source": []
  }
 ],
 "metadata": {
  "kernelspec": {
   "display_name": "Python 3",
   "language": "python",
   "name": "python3"
  },
  "language_info": {
   "codemirror_mode": {
    "name": "ipython",
    "version": 3
   },
   "file_extension": ".py",
   "mimetype": "text/x-python",
   "name": "python",
   "nbconvert_exporter": "python",
   "pygments_lexer": "ipython3",
   "version": "3.7.0"
  }
 },
 "nbformat": 4,
 "nbformat_minor": 2
}
