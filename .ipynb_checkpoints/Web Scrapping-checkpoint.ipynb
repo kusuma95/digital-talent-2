{
 "cells": [
  {
   "cell_type": "code",
   "execution_count": null,
   "metadata": {},
   "outputs": [],
   "source": [
    "import urllib \n",
    "from bs4 import BeautifulSoup \n",
    "\n",
    "r = urllib.request.urlopen('http://sipuu.setkab.go.id/puu/').read()\n",
    "\n"
   ]
  },
  {
   "cell_type": "code",
   "execution_count": 12,
   "metadata": {},
   "outputs": [
    {
     "name": "stdout",
     "output_type": "stream",
     "text": [
      "<class 'bs4.BeautifulSoup'>\n",
      "?xml version=\"1.0\" encoding=\"utf-8\"?>\n",
      "<!DOCTYPE html>\n",
      "<!-- Template by Quackit.com -->\n",
      "<html lang=\"en\">\n",
      " <head>\n",
      "  <meta charset=\"utf-8\">\n",
      "   <meta content=\"IE=edge\" http-equiv=\"X-UA-Compatible\">\n",
      "    <meta content=\"width=device-width, initial-scale=1\" name=\"viewport\">\n",
      "     <!-- The above 3 meta tags *must* come first in the head; any other head content must come *after* these tags -->\n",
      "     <title>\n",
      "      SEKRETARIAT KABINET RI\n",
      "     </title>\n",
      "     <!-- jQueryUI -->\n",
      "     <link href=\"http://sipuu.setkab.go.id/assets/red_theme/js/jquery-ui-1.12.0.custom/themes/cupertino/jquery-ui.min.css\" rel=\"stylesheet\">\n",
      "      <link href=\"http://sipuu.setkab.go.id/assets/red_theme/js/jquery-ui-1.12.0.custom/themes/cupertino/theme.css\" rel=\"stylesheet\">\n",
      "       <!-- Bootstrap Core CSS -->\n",
      "       <link href=\"http://sipuu.setkab.go.id/assets/red_theme/js/bootstrap-3.3.7/css/bootstrap.min.css\" rel=\"stylesheet\">\n",
      "        <!-- Font-awesome -->\n",
      "        <link href=\"http://sipuu.setkab.go.id/assets/red_theme/css/font-\n"
     ]
    }
   ],
   "source": [
    "soup = BeautifulSoup(r,'xml')\n",
    "print(type(soup))\n",
    "print(soup.prettify()[1:1000])"
   ]
  },
  {
   "cell_type": "code",
   "execution_count": null,
   "metadata": {},
   "outputs": [],
   "source": [
    "soup.title"
   ]
  },
  {
   "cell_type": "code",
   "execution_count": null,
   "metadata": {},
   "outputs": [],
   "source": []
  }
 ],
 "metadata": {
  "kernelspec": {
   "display_name": "Python 3",
   "language": "python",
   "name": "python3"
  },
  "language_info": {
   "codemirror_mode": {
    "name": "ipython",
    "version": 3
   },
   "file_extension": ".py",
   "mimetype": "text/x-python",
   "name": "python",
   "nbconvert_exporter": "python",
   "pygments_lexer": "ipython3",
   "version": "3.7.0"
  }
 },
 "nbformat": 4,
 "nbformat_minor": 2
}
