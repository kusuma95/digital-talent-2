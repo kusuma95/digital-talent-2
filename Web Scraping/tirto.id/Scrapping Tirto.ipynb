{
 "cells": [
  {
   "cell_type": "code",
   "execution_count": 18,
   "metadata": {},
   "outputs": [
   ],
   "source": [
    "import requests\n",
    "import json\n",
    "\n",
    "url = 'https://tirto.id/apis/articlef/latest/all?page=1&limit=70740'\n",
    "\n",
    "headers = {\n",
    "    'User-Agent': 'My User Agent 1.0',\n",
    "    'From': 'youremail@domain.com'  # This is another valid field\n",
    "}\n",
    "\n",
    "response = requests.get(url, headers=headers)\n",
    "\n",
    "data = json.loads(response.text)\n",
    "\n",
    "# menyimpan hasil scraping ke dalam file\n",
    "with open('tirto.json', 'w') as outfile:  \n",
    "    json.dump(data, outfile)\n",
    "    print('Scraping Done.. ')\n",
    "    \n",
    "\n",
    "\n"
   ]
  },
  {
   "cell_type": "code",
   "execution_count": null,
   "metadata": {},
   "outputs": [],
   "source": []
  },
  {
   "cell_type": "code",
   "execution_count": null,
   "metadata": {},
   "outputs": [],
   "source": []
  }
 ],
 "metadata": {
  "kernelspec": {
   "display_name": "Python 3",
   "language": "python",
   "name": "python3"
  },
  "language_info": {
   "codemirror_mode": {
    "name": "ipython",
    "version": 3
   },
   "file_extension": ".py",
   "mimetype": "text/x-python",
   "name": "python",
   "nbconvert_exporter": "python",
   "pygments_lexer": "ipython3",
   "version": "3.6.7"
  }
 },
 "nbformat": 4,
 "nbformat_minor": 2
}
