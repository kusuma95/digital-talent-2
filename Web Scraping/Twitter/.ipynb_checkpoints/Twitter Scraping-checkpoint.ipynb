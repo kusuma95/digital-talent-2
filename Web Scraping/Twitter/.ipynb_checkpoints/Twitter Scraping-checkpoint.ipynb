{
 "cells": [
  {
   "cell_type": "code",
   "execution_count": 3,
   "metadata": {},
   "outputs": [],
   "source": [
    "from twython import Twython\n",
    "import pandas as pd\n",
    "\n",
    "#Log in Twitter API\n",
    "TWITTER_APP_KEY = \"bgAsjeaOjDhijVVNj0CKvmXd1\"\n",
    "TWITTER_APP_KEY_SECRET = \"i4ogIK1Pw0sHtPMve71JgzONGGz5osFNoKELQ31QmXdJZK6CJF\"\n",
    "TWITTER_ACCESS_TOKEN = \"946009581813039106-1p9P45cWrcjhgugctlTA48VzkxkoKxT\"\n",
    "TWITTER_ACCESS_TOKEN_SECRET = \"CXF8ijxLrF4T9KHXsNR8XhJx77uKARW9KGS0PtrOeYa4j\"\n",
    "\n",
    "t = Twython(app_key=TWITTER_APP_KEY, \n",
    "            app_secret=TWITTER_APP_KEY_SECRET, \n",
    "            oauth_token=TWITTER_ACCESS_TOKEN, \n",
    "            oauth_token_secret=TWITTER_ACCESS_TOKEN_SECRET)\n",
    "\n",
    "#Query\n",
    "term = 'Liverpool'\n",
    "tweet_metadatas = t.search(q=term,count=20,result_type='recent',lang='id')\n",
    "\n",
    "#Scrapping\n",
    "data_list = []\n",
    "for tweet in tweet_metadatas['statuses']:\n",
    "    meta = dict()\n",
    "    meta['tweet'] = tweet['text']\n",
    "    meta['timestamp'] = tweet['created_at']\n",
    "    meta['username'] = tweet['user']['screen_name']\n",
    "    \n",
    "    data_list.append(meta)\n",
    "    \n"
   ]
  },
  {
   "cell_type": "code",
   "execution_count": 8,
   "metadata": {},
   "outputs": [
    {
     "data": {
      "text/html": [
       "<div>\n",
       "<style scoped>\n",
       "    .dataframe tbody tr th:only-of-type {\n",
       "        vertical-align: middle;\n",
       "    }\n",
       "\n",
       "    .dataframe tbody tr th {\n",
       "        vertical-align: top;\n",
       "    }\n",
       "\n",
       "    .dataframe thead th {\n",
       "        text-align: right;\n",
       "    }\n",
       "</style>\n",
       "<table border=\"1\" class=\"dataframe\">\n",
       "  <thead>\n",
       "    <tr style=\"text-align: right;\">\n",
       "      <th></th>\n",
       "      <th>timestamp</th>\n",
       "      <th>tweet</th>\n",
       "      <th>username</th>\n",
       "    </tr>\n",
       "  </thead>\n",
       "  <tbody>\n",
       "    <tr>\n",
       "      <th>0</th>\n",
       "      <td>Sat Oct 27 11:15:02 +0000 2018</td>\n",
       "      <td>Cardiff Bertekad Kalahkan Liverpool Seperti 59...</td>\n",
       "      <td>BolaBanget</td>\n",
       "    </tr>\n",
       "    <tr>\n",
       "      <th>1</th>\n",
       "      <td>Sat Oct 27 11:14:46 +0000 2018</td>\n",
       "      <td>Saing2 Liverpool sign Van Dijk.  \\n\\n\"Signing ...</td>\n",
       "      <td>jejangs23</td>\n",
       "    </tr>\n",
       "    <tr>\n",
       "      <th>2</th>\n",
       "      <td>Sat Oct 27 11:14:09 +0000 2018</td>\n",
       "      <td>@anasafwan212 @twt_liverpool Nas tuka nombor l...</td>\n",
       "      <td>amirqiud</td>\n",
       "    </tr>\n",
       "    <tr>\n",
       "      <th>3</th>\n",
       "      <td>Sat Oct 27 11:13:22 +0000 2018</td>\n",
       "      <td>MENURUT KUYT SALAH SANGAT BAHAGIA BERADA DI LI...</td>\n",
       "      <td>AreaBola88</td>\n",
       "    </tr>\n",
       "    <tr>\n",
       "      <th>4</th>\n",
       "      <td>Sat Oct 27 11:12:49 +0000 2018</td>\n",
       "      <td>Cblah Liverpool lawan plak malam ni ya tuhan a...</td>\n",
       "      <td>hafiz_kun77</td>\n",
       "    </tr>\n",
       "  </tbody>\n",
       "</table>\n",
       "</div>"
      ],
      "text/plain": [
       "                        timestamp  \\\n",
       "0  Sat Oct 27 11:15:02 +0000 2018   \n",
       "1  Sat Oct 27 11:14:46 +0000 2018   \n",
       "2  Sat Oct 27 11:14:09 +0000 2018   \n",
       "3  Sat Oct 27 11:13:22 +0000 2018   \n",
       "4  Sat Oct 27 11:12:49 +0000 2018   \n",
       "\n",
       "                                               tweet     username  \n",
       "0  Cardiff Bertekad Kalahkan Liverpool Seperti 59...   BolaBanget  \n",
       "1  Saing2 Liverpool sign Van Dijk.  \\n\\n\"Signing ...    jejangs23  \n",
       "2  @anasafwan212 @twt_liverpool Nas tuka nombor l...     amirqiud  \n",
       "3  MENURUT KUYT SALAH SANGAT BAHAGIA BERADA DI LI...   AreaBola88  \n",
       "4  Cblah Liverpool lawan plak malam ni ya tuhan a...  hafiz_kun77  "
      ]
     },
     "execution_count": 8,
     "metadata": {},
     "output_type": "execute_result"
    }
   ],
   "source": [
    "# Save Data\n",
    "data = pd.DataFrame(data_list)\n",
    "writer = pd.ExcelWriter('result.xlsx')\n",
    "data.to_excel(writer,'Sheet1',index=False)\n",
    "writer.save()\n",
    "\n",
    "data.head()"
   ]
  },
  {
   "cell_type": "code",
   "execution_count": null,
   "metadata": {},
   "outputs": [],
   "source": []
  }
 ],
 "metadata": {
  "kernelspec": {
   "display_name": "Python 3",
   "language": "python",
   "name": "python3"
  },
  "language_info": {
   "codemirror_mode": {
    "name": "ipython",
    "version": 3
   },
   "file_extension": ".py",
   "mimetype": "text/x-python",
   "name": "python",
   "nbconvert_exporter": "python",
   "pygments_lexer": "ipython3",
   "version": "3.6.7"
  }
 },
 "nbformat": 4,
 "nbformat_minor": 2
}
